{
  "nbformat": 4,
  "nbformat_minor": 0,
  "metadata": {
    "colab": {
      "name": "TA_AnalisisSentimiento_MensajePresidencial.ipynb",
      "provenance": [],
      "include_colab_link": true
    },
    "kernelspec": {
      "name": "python3",
      "display_name": "Python 3"
    },
    "language_info": {
      "name": "python"
    },
    "widgets": {
      "application/vnd.jupyter.widget-state+json": {
        "91c0c635fef94faea5ca92c32849cfc3": {
          "model_module": "@jupyter-widgets/controls",
          "model_name": "HBoxModel",
          "state": {
            "_view_name": "HBoxView",
            "_dom_classes": [],
            "_model_name": "HBoxModel",
            "_view_module": "@jupyter-widgets/controls",
            "_model_module_version": "1.5.0",
            "_view_count": null,
            "_view_module_version": "1.5.0",
            "box_style": "",
            "layout": "IPY_MODEL_def8b2de1eb44e2eb44197daaeefe79e",
            "_model_module": "@jupyter-widgets/controls",
            "children": [
              "IPY_MODEL_0e182dca0d9d4ba7bedad9ffb64d2ece",
              "IPY_MODEL_de496f5d2b494d788cf519ee480a6666"
            ]
          }
        },
        "def8b2de1eb44e2eb44197daaeefe79e": {
          "model_module": "@jupyter-widgets/base",
          "model_name": "LayoutModel",
          "state": {
            "_view_name": "LayoutView",
            "grid_template_rows": null,
            "right": null,
            "justify_content": null,
            "_view_module": "@jupyter-widgets/base",
            "overflow": null,
            "_model_module_version": "1.2.0",
            "_view_count": null,
            "flex_flow": null,
            "width": null,
            "min_width": null,
            "border": null,
            "align_items": null,
            "bottom": null,
            "_model_module": "@jupyter-widgets/base",
            "top": null,
            "grid_column": null,
            "overflow_y": null,
            "overflow_x": null,
            "grid_auto_flow": null,
            "grid_area": null,
            "grid_template_columns": null,
            "flex": null,
            "_model_name": "LayoutModel",
            "justify_items": null,
            "grid_row": null,
            "max_height": null,
            "align_content": null,
            "visibility": null,
            "align_self": null,
            "height": null,
            "min_height": null,
            "padding": null,
            "grid_auto_rows": null,
            "grid_gap": null,
            "max_width": null,
            "order": null,
            "_view_module_version": "1.2.0",
            "grid_template_areas": null,
            "object_position": null,
            "object_fit": null,
            "grid_auto_columns": null,
            "margin": null,
            "display": null,
            "left": null
          }
        },
        "0e182dca0d9d4ba7bedad9ffb64d2ece": {
          "model_module": "@jupyter-widgets/controls",
          "model_name": "FloatProgressModel",
          "state": {
            "_view_name": "ProgressView",
            "style": "IPY_MODEL_4c6d6031359948ab8db792c45150e622",
            "_dom_classes": [],
            "description": "Downloading: 100%",
            "_model_name": "FloatProgressModel",
            "bar_style": "success",
            "max": 1343,
            "_view_module": "@jupyter-widgets/controls",
            "_model_module_version": "1.5.0",
            "value": 1343,
            "_view_count": null,
            "_view_module_version": "1.5.0",
            "orientation": "horizontal",
            "min": 0,
            "description_tooltip": null,
            "_model_module": "@jupyter-widgets/controls",
            "layout": "IPY_MODEL_dd18c9dae48946499a28c761f2507f0a"
          }
        },
        "de496f5d2b494d788cf519ee480a6666": {
          "model_module": "@jupyter-widgets/controls",
          "model_name": "HTMLModel",
          "state": {
            "_view_name": "HTMLView",
            "style": "IPY_MODEL_bf30a9fdb84546a1a245f148e7e60dfc",
            "_dom_classes": [],
            "description": "",
            "_model_name": "HTMLModel",
            "placeholder": "​",
            "_view_module": "@jupyter-widgets/controls",
            "_model_module_version": "1.5.0",
            "value": " 1.34k/1.34k [00:31&lt;00:00, 43.3B/s]",
            "_view_count": null,
            "_view_module_version": "1.5.0",
            "description_tooltip": null,
            "_model_module": "@jupyter-widgets/controls",
            "layout": "IPY_MODEL_d9a6d0108fdf417d86ca9918f46ce648"
          }
        },
        "4c6d6031359948ab8db792c45150e622": {
          "model_module": "@jupyter-widgets/controls",
          "model_name": "ProgressStyleModel",
          "state": {
            "_view_name": "StyleView",
            "_model_name": "ProgressStyleModel",
            "description_width": "initial",
            "_view_module": "@jupyter-widgets/base",
            "_model_module_version": "1.5.0",
            "_view_count": null,
            "_view_module_version": "1.2.0",
            "bar_color": null,
            "_model_module": "@jupyter-widgets/controls"
          }
        },
        "dd18c9dae48946499a28c761f2507f0a": {
          "model_module": "@jupyter-widgets/base",
          "model_name": "LayoutModel",
          "state": {
            "_view_name": "LayoutView",
            "grid_template_rows": null,
            "right": null,
            "justify_content": null,
            "_view_module": "@jupyter-widgets/base",
            "overflow": null,
            "_model_module_version": "1.2.0",
            "_view_count": null,
            "flex_flow": null,
            "width": null,
            "min_width": null,
            "border": null,
            "align_items": null,
            "bottom": null,
            "_model_module": "@jupyter-widgets/base",
            "top": null,
            "grid_column": null,
            "overflow_y": null,
            "overflow_x": null,
            "grid_auto_flow": null,
            "grid_area": null,
            "grid_template_columns": null,
            "flex": null,
            "_model_name": "LayoutModel",
            "justify_items": null,
            "grid_row": null,
            "max_height": null,
            "align_content": null,
            "visibility": null,
            "align_self": null,
            "height": null,
            "min_height": null,
            "padding": null,
            "grid_auto_rows": null,
            "grid_gap": null,
            "max_width": null,
            "order": null,
            "_view_module_version": "1.2.0",
            "grid_template_areas": null,
            "object_position": null,
            "object_fit": null,
            "grid_auto_columns": null,
            "margin": null,
            "display": null,
            "left": null
          }
        },
        "bf30a9fdb84546a1a245f148e7e60dfc": {
          "model_module": "@jupyter-widgets/controls",
          "model_name": "DescriptionStyleModel",
          "state": {
            "_view_name": "StyleView",
            "_model_name": "DescriptionStyleModel",
            "description_width": "",
            "_view_module": "@jupyter-widgets/base",
            "_model_module_version": "1.5.0",
            "_view_count": null,
            "_view_module_version": "1.2.0",
            "_model_module": "@jupyter-widgets/controls"
          }
        },
        "d9a6d0108fdf417d86ca9918f46ce648": {
          "model_module": "@jupyter-widgets/base",
          "model_name": "LayoutModel",
          "state": {
            "_view_name": "LayoutView",
            "grid_template_rows": null,
            "right": null,
            "justify_content": null,
            "_view_module": "@jupyter-widgets/base",
            "overflow": null,
            "_model_module_version": "1.2.0",
            "_view_count": null,
            "flex_flow": null,
            "width": null,
            "min_width": null,
            "border": null,
            "align_items": null,
            "bottom": null,
            "_model_module": "@jupyter-widgets/base",
            "top": null,
            "grid_column": null,
            "overflow_y": null,
            "overflow_x": null,
            "grid_auto_flow": null,
            "grid_area": null,
            "grid_template_columns": null,
            "flex": null,
            "_model_name": "LayoutModel",
            "justify_items": null,
            "grid_row": null,
            "max_height": null,
            "align_content": null,
            "visibility": null,
            "align_self": null,
            "height": null,
            "min_height": null,
            "padding": null,
            "grid_auto_rows": null,
            "grid_gap": null,
            "max_width": null,
            "order": null,
            "_view_module_version": "1.2.0",
            "grid_template_areas": null,
            "object_position": null,
            "object_fit": null,
            "grid_auto_columns": null,
            "margin": null,
            "display": null,
            "left": null
          }
        },
        "cff5919fba884bbaa88c5f3a27410750": {
          "model_module": "@jupyter-widgets/controls",
          "model_name": "HBoxModel",
          "state": {
            "_view_name": "HBoxView",
            "_dom_classes": [],
            "_model_name": "HBoxModel",
            "_view_module": "@jupyter-widgets/controls",
            "_model_module_version": "1.5.0",
            "_view_count": null,
            "_view_module_version": "1.5.0",
            "box_style": "",
            "layout": "IPY_MODEL_e2155eb62d794d7ca739270e65a765ea",
            "_model_module": "@jupyter-widgets/controls",
            "children": [
              "IPY_MODEL_fc0fe2abff6440cfbc39c0bd8fcc3dc7",
              "IPY_MODEL_0de1a9f8efd648e1b64fc4b704ca7618"
            ]
          }
        },
        "e2155eb62d794d7ca739270e65a765ea": {
          "model_module": "@jupyter-widgets/base",
          "model_name": "LayoutModel",
          "state": {
            "_view_name": "LayoutView",
            "grid_template_rows": null,
            "right": null,
            "justify_content": null,
            "_view_module": "@jupyter-widgets/base",
            "overflow": null,
            "_model_module_version": "1.2.0",
            "_view_count": null,
            "flex_flow": null,
            "width": null,
            "min_width": null,
            "border": null,
            "align_items": null,
            "bottom": null,
            "_model_module": "@jupyter-widgets/base",
            "top": null,
            "grid_column": null,
            "overflow_y": null,
            "overflow_x": null,
            "grid_auto_flow": null,
            "grid_area": null,
            "grid_template_columns": null,
            "flex": null,
            "_model_name": "LayoutModel",
            "justify_items": null,
            "grid_row": null,
            "max_height": null,
            "align_content": null,
            "visibility": null,
            "align_self": null,
            "height": null,
            "min_height": null,
            "padding": null,
            "grid_auto_rows": null,
            "grid_gap": null,
            "max_width": null,
            "order": null,
            "_view_module_version": "1.2.0",
            "grid_template_areas": null,
            "object_position": null,
            "object_fit": null,
            "grid_auto_columns": null,
            "margin": null,
            "display": null,
            "left": null
          }
        },
        "fc0fe2abff6440cfbc39c0bd8fcc3dc7": {
          "model_module": "@jupyter-widgets/controls",
          "model_name": "FloatProgressModel",
          "state": {
            "_view_name": "ProgressView",
            "style": "IPY_MODEL_974aea40ca974d079721a2e4bd30d394",
            "_dom_classes": [],
            "description": "Downloading: 100%",
            "_model_name": "FloatProgressModel",
            "bar_style": "success",
            "max": 312087523,
            "_view_module": "@jupyter-widgets/controls",
            "_model_module_version": "1.5.0",
            "value": 312087523,
            "_view_count": null,
            "_view_module_version": "1.5.0",
            "orientation": "horizontal",
            "min": 0,
            "description_tooltip": null,
            "_model_module": "@jupyter-widgets/controls",
            "layout": "IPY_MODEL_11a1046a0e8f4de68646102942d2fb0f"
          }
        },
        "0de1a9f8efd648e1b64fc4b704ca7618": {
          "model_module": "@jupyter-widgets/controls",
          "model_name": "HTMLModel",
          "state": {
            "_view_name": "HTMLView",
            "style": "IPY_MODEL_cc5ac81f4bea48039ea9f2dc45e398f4",
            "_dom_classes": [],
            "description": "",
            "_model_name": "HTMLModel",
            "placeholder": "​",
            "_view_module": "@jupyter-widgets/controls",
            "_model_module_version": "1.5.0",
            "value": " 312M/312M [00:29&lt;00:00, 10.6MB/s]",
            "_view_count": null,
            "_view_module_version": "1.5.0",
            "description_tooltip": null,
            "_model_module": "@jupyter-widgets/controls",
            "layout": "IPY_MODEL_91bb0083076745739399e695af0ef50e"
          }
        },
        "974aea40ca974d079721a2e4bd30d394": {
          "model_module": "@jupyter-widgets/controls",
          "model_name": "ProgressStyleModel",
          "state": {
            "_view_name": "StyleView",
            "_model_name": "ProgressStyleModel",
            "description_width": "initial",
            "_view_module": "@jupyter-widgets/base",
            "_model_module_version": "1.5.0",
            "_view_count": null,
            "_view_module_version": "1.2.0",
            "bar_color": null,
            "_model_module": "@jupyter-widgets/controls"
          }
        },
        "11a1046a0e8f4de68646102942d2fb0f": {
          "model_module": "@jupyter-widgets/base",
          "model_name": "LayoutModel",
          "state": {
            "_view_name": "LayoutView",
            "grid_template_rows": null,
            "right": null,
            "justify_content": null,
            "_view_module": "@jupyter-widgets/base",
            "overflow": null,
            "_model_module_version": "1.2.0",
            "_view_count": null,
            "flex_flow": null,
            "width": null,
            "min_width": null,
            "border": null,
            "align_items": null,
            "bottom": null,
            "_model_module": "@jupyter-widgets/base",
            "top": null,
            "grid_column": null,
            "overflow_y": null,
            "overflow_x": null,
            "grid_auto_flow": null,
            "grid_area": null,
            "grid_template_columns": null,
            "flex": null,
            "_model_name": "LayoutModel",
            "justify_items": null,
            "grid_row": null,
            "max_height": null,
            "align_content": null,
            "visibility": null,
            "align_self": null,
            "height": null,
            "min_height": null,
            "padding": null,
            "grid_auto_rows": null,
            "grid_gap": null,
            "max_width": null,
            "order": null,
            "_view_module_version": "1.2.0",
            "grid_template_areas": null,
            "object_position": null,
            "object_fit": null,
            "grid_auto_columns": null,
            "margin": null,
            "display": null,
            "left": null
          }
        },
        "cc5ac81f4bea48039ea9f2dc45e398f4": {
          "model_module": "@jupyter-widgets/controls",
          "model_name": "DescriptionStyleModel",
          "state": {
            "_view_name": "StyleView",
            "_model_name": "DescriptionStyleModel",
            "description_width": "",
            "_view_module": "@jupyter-widgets/base",
            "_model_module_version": "1.5.0",
            "_view_count": null,
            "_view_module_version": "1.2.0",
            "_model_module": "@jupyter-widgets/controls"
          }
        },
        "91bb0083076745739399e695af0ef50e": {
          "model_module": "@jupyter-widgets/base",
          "model_name": "LayoutModel",
          "state": {
            "_view_name": "LayoutView",
            "grid_template_rows": null,
            "right": null,
            "justify_content": null,
            "_view_module": "@jupyter-widgets/base",
            "overflow": null,
            "_model_module_version": "1.2.0",
            "_view_count": null,
            "flex_flow": null,
            "width": null,
            "min_width": null,
            "border": null,
            "align_items": null,
            "bottom": null,
            "_model_module": "@jupyter-widgets/base",
            "top": null,
            "grid_column": null,
            "overflow_y": null,
            "overflow_x": null,
            "grid_auto_flow": null,
            "grid_area": null,
            "grid_template_columns": null,
            "flex": null,
            "_model_name": "LayoutModel",
            "justify_items": null,
            "grid_row": null,
            "max_height": null,
            "align_content": null,
            "visibility": null,
            "align_self": null,
            "height": null,
            "min_height": null,
            "padding": null,
            "grid_auto_rows": null,
            "grid_gap": null,
            "max_width": null,
            "order": null,
            "_view_module_version": "1.2.0",
            "grid_template_areas": null,
            "object_position": null,
            "object_fit": null,
            "grid_auto_columns": null,
            "margin": null,
            "display": null,
            "left": null
          }
        },
        "ba286ec1abb64864ab65980f496a67ac": {
          "model_module": "@jupyter-widgets/controls",
          "model_name": "HBoxModel",
          "state": {
            "_view_name": "HBoxView",
            "_dom_classes": [],
            "_model_name": "HBoxModel",
            "_view_module": "@jupyter-widgets/controls",
            "_model_module_version": "1.5.0",
            "_view_count": null,
            "_view_module_version": "1.5.0",
            "box_style": "",
            "layout": "IPY_MODEL_ff9dfb376bc9463e87bf28506ae8b128",
            "_model_module": "@jupyter-widgets/controls",
            "children": [
              "IPY_MODEL_ec16cba7651d49fcb588a1b2b5465e68",
              "IPY_MODEL_35817cb458c54c4882664c673cedfa4c"
            ]
          }
        },
        "ff9dfb376bc9463e87bf28506ae8b128": {
          "model_module": "@jupyter-widgets/base",
          "model_name": "LayoutModel",
          "state": {
            "_view_name": "LayoutView",
            "grid_template_rows": null,
            "right": null,
            "justify_content": null,
            "_view_module": "@jupyter-widgets/base",
            "overflow": null,
            "_model_module_version": "1.2.0",
            "_view_count": null,
            "flex_flow": null,
            "width": null,
            "min_width": null,
            "border": null,
            "align_items": null,
            "bottom": null,
            "_model_module": "@jupyter-widgets/base",
            "top": null,
            "grid_column": null,
            "overflow_y": null,
            "overflow_x": null,
            "grid_auto_flow": null,
            "grid_area": null,
            "grid_template_columns": null,
            "flex": null,
            "_model_name": "LayoutModel",
            "justify_items": null,
            "grid_row": null,
            "max_height": null,
            "align_content": null,
            "visibility": null,
            "align_self": null,
            "height": null,
            "min_height": null,
            "padding": null,
            "grid_auto_rows": null,
            "grid_gap": null,
            "max_width": null,
            "order": null,
            "_view_module_version": "1.2.0",
            "grid_template_areas": null,
            "object_position": null,
            "object_fit": null,
            "grid_auto_columns": null,
            "margin": null,
            "display": null,
            "left": null
          }
        },
        "ec16cba7651d49fcb588a1b2b5465e68": {
          "model_module": "@jupyter-widgets/controls",
          "model_name": "FloatProgressModel",
          "state": {
            "_view_name": "ProgressView",
            "style": "IPY_MODEL_f7e51c0d447843a98d1602e18aecc62b",
            "_dom_classes": [],
            "description": "Downloading: 100%",
            "_model_name": "FloatProgressModel",
            "bar_style": "success",
            "max": 44,
            "_view_module": "@jupyter-widgets/controls",
            "_model_module_version": "1.5.0",
            "value": 44,
            "_view_count": null,
            "_view_module_version": "1.5.0",
            "orientation": "horizontal",
            "min": 0,
            "description_tooltip": null,
            "_model_module": "@jupyter-widgets/controls",
            "layout": "IPY_MODEL_161dc29af3d24c29a5757267bfee98ff"
          }
        },
        "35817cb458c54c4882664c673cedfa4c": {
          "model_module": "@jupyter-widgets/controls",
          "model_name": "HTMLModel",
          "state": {
            "_view_name": "HTMLView",
            "style": "IPY_MODEL_ad377a37aa85464b805ca646fd6dd3a1",
            "_dom_classes": [],
            "description": "",
            "_model_name": "HTMLModel",
            "placeholder": "​",
            "_view_module": "@jupyter-widgets/controls",
            "_model_module_version": "1.5.0",
            "value": " 44.0/44.0 [00:01&lt;00:00, 31.8B/s]",
            "_view_count": null,
            "_view_module_version": "1.5.0",
            "description_tooltip": null,
            "_model_module": "@jupyter-widgets/controls",
            "layout": "IPY_MODEL_6d154611ef7340f58c9b66919da57a07"
          }
        },
        "f7e51c0d447843a98d1602e18aecc62b": {
          "model_module": "@jupyter-widgets/controls",
          "model_name": "ProgressStyleModel",
          "state": {
            "_view_name": "StyleView",
            "_model_name": "ProgressStyleModel",
            "description_width": "initial",
            "_view_module": "@jupyter-widgets/base",
            "_model_module_version": "1.5.0",
            "_view_count": null,
            "_view_module_version": "1.2.0",
            "bar_color": null,
            "_model_module": "@jupyter-widgets/controls"
          }
        },
        "161dc29af3d24c29a5757267bfee98ff": {
          "model_module": "@jupyter-widgets/base",
          "model_name": "LayoutModel",
          "state": {
            "_view_name": "LayoutView",
            "grid_template_rows": null,
            "right": null,
            "justify_content": null,
            "_view_module": "@jupyter-widgets/base",
            "overflow": null,
            "_model_module_version": "1.2.0",
            "_view_count": null,
            "flex_flow": null,
            "width": null,
            "min_width": null,
            "border": null,
            "align_items": null,
            "bottom": null,
            "_model_module": "@jupyter-widgets/base",
            "top": null,
            "grid_column": null,
            "overflow_y": null,
            "overflow_x": null,
            "grid_auto_flow": null,
            "grid_area": null,
            "grid_template_columns": null,
            "flex": null,
            "_model_name": "LayoutModel",
            "justify_items": null,
            "grid_row": null,
            "max_height": null,
            "align_content": null,
            "visibility": null,
            "align_self": null,
            "height": null,
            "min_height": null,
            "padding": null,
            "grid_auto_rows": null,
            "grid_gap": null,
            "max_width": null,
            "order": null,
            "_view_module_version": "1.2.0",
            "grid_template_areas": null,
            "object_position": null,
            "object_fit": null,
            "grid_auto_columns": null,
            "margin": null,
            "display": null,
            "left": null
          }
        },
        "ad377a37aa85464b805ca646fd6dd3a1": {
          "model_module": "@jupyter-widgets/controls",
          "model_name": "DescriptionStyleModel",
          "state": {
            "_view_name": "StyleView",
            "_model_name": "DescriptionStyleModel",
            "description_width": "",
            "_view_module": "@jupyter-widgets/base",
            "_model_module_version": "1.5.0",
            "_view_count": null,
            "_view_module_version": "1.2.0",
            "_model_module": "@jupyter-widgets/controls"
          }
        },
        "6d154611ef7340f58c9b66919da57a07": {
          "model_module": "@jupyter-widgets/base",
          "model_name": "LayoutModel",
          "state": {
            "_view_name": "LayoutView",
            "grid_template_rows": null,
            "right": null,
            "justify_content": null,
            "_view_module": "@jupyter-widgets/base",
            "overflow": null,
            "_model_module_version": "1.2.0",
            "_view_count": null,
            "flex_flow": null,
            "width": null,
            "min_width": null,
            "border": null,
            "align_items": null,
            "bottom": null,
            "_model_module": "@jupyter-widgets/base",
            "top": null,
            "grid_column": null,
            "overflow_y": null,
            "overflow_x": null,
            "grid_auto_flow": null,
            "grid_area": null,
            "grid_template_columns": null,
            "flex": null,
            "_model_name": "LayoutModel",
            "justify_items": null,
            "grid_row": null,
            "max_height": null,
            "align_content": null,
            "visibility": null,
            "align_self": null,
            "height": null,
            "min_height": null,
            "padding": null,
            "grid_auto_rows": null,
            "grid_gap": null,
            "max_width": null,
            "order": null,
            "_view_module_version": "1.2.0",
            "grid_template_areas": null,
            "object_position": null,
            "object_fit": null,
            "grid_auto_columns": null,
            "margin": null,
            "display": null,
            "left": null
          }
        },
        "e8dfc6d9a5a248b0b920b5719871011c": {
          "model_module": "@jupyter-widgets/controls",
          "model_name": "HBoxModel",
          "state": {
            "_view_name": "HBoxView",
            "_dom_classes": [],
            "_model_name": "HBoxModel",
            "_view_module": "@jupyter-widgets/controls",
            "_model_module_version": "1.5.0",
            "_view_count": null,
            "_view_module_version": "1.5.0",
            "box_style": "",
            "layout": "IPY_MODEL_61bd5b2d6de74590b15f04275e2f2bff",
            "_model_module": "@jupyter-widgets/controls",
            "children": [
              "IPY_MODEL_cd35f083e5234dd1b243f32ff158fc16",
              "IPY_MODEL_3a41359831c74789b1c433d4aeca7c54"
            ]
          }
        },
        "61bd5b2d6de74590b15f04275e2f2bff": {
          "model_module": "@jupyter-widgets/base",
          "model_name": "LayoutModel",
          "state": {
            "_view_name": "LayoutView",
            "grid_template_rows": null,
            "right": null,
            "justify_content": null,
            "_view_module": "@jupyter-widgets/base",
            "overflow": null,
            "_model_module_version": "1.2.0",
            "_view_count": null,
            "flex_flow": null,
            "width": null,
            "min_width": null,
            "border": null,
            "align_items": null,
            "bottom": null,
            "_model_module": "@jupyter-widgets/base",
            "top": null,
            "grid_column": null,
            "overflow_y": null,
            "overflow_x": null,
            "grid_auto_flow": null,
            "grid_area": null,
            "grid_template_columns": null,
            "flex": null,
            "_model_name": "LayoutModel",
            "justify_items": null,
            "grid_row": null,
            "max_height": null,
            "align_content": null,
            "visibility": null,
            "align_self": null,
            "height": null,
            "min_height": null,
            "padding": null,
            "grid_auto_rows": null,
            "grid_gap": null,
            "max_width": null,
            "order": null,
            "_view_module_version": "1.2.0",
            "grid_template_areas": null,
            "object_position": null,
            "object_fit": null,
            "grid_auto_columns": null,
            "margin": null,
            "display": null,
            "left": null
          }
        },
        "cd35f083e5234dd1b243f32ff158fc16": {
          "model_module": "@jupyter-widgets/controls",
          "model_name": "FloatProgressModel",
          "state": {
            "_view_name": "ProgressView",
            "style": "IPY_MODEL_6ca7c97d920b464d8491f5d8c20e380a",
            "_dom_classes": [],
            "description": "Downloading: 100%",
            "_model_name": "FloatProgressModel",
            "bar_style": "success",
            "max": 801636,
            "_view_module": "@jupyter-widgets/controls",
            "_model_module_version": "1.5.0",
            "value": 801636,
            "_view_count": null,
            "_view_module_version": "1.5.0",
            "orientation": "horizontal",
            "min": 0,
            "description_tooltip": null,
            "_model_module": "@jupyter-widgets/controls",
            "layout": "IPY_MODEL_f177a3bc383b4a658423da753420843e"
          }
        },
        "3a41359831c74789b1c433d4aeca7c54": {
          "model_module": "@jupyter-widgets/controls",
          "model_name": "HTMLModel",
          "state": {
            "_view_name": "HTMLView",
            "style": "IPY_MODEL_01e2af54a2754a709294fe3c37858174",
            "_dom_classes": [],
            "description": "",
            "_model_name": "HTMLModel",
            "placeholder": "​",
            "_view_module": "@jupyter-widgets/controls",
            "_model_module_version": "1.5.0",
            "value": " 802k/802k [00:16&lt;00:00, 47.7kB/s]",
            "_view_count": null,
            "_view_module_version": "1.5.0",
            "description_tooltip": null,
            "_model_module": "@jupyter-widgets/controls",
            "layout": "IPY_MODEL_934656666efb429896491e1be894c91b"
          }
        },
        "6ca7c97d920b464d8491f5d8c20e380a": {
          "model_module": "@jupyter-widgets/controls",
          "model_name": "ProgressStyleModel",
          "state": {
            "_view_name": "StyleView",
            "_model_name": "ProgressStyleModel",
            "description_width": "initial",
            "_view_module": "@jupyter-widgets/base",
            "_model_module_version": "1.5.0",
            "_view_count": null,
            "_view_module_version": "1.2.0",
            "bar_color": null,
            "_model_module": "@jupyter-widgets/controls"
          }
        },
        "f177a3bc383b4a658423da753420843e": {
          "model_module": "@jupyter-widgets/base",
          "model_name": "LayoutModel",
          "state": {
            "_view_name": "LayoutView",
            "grid_template_rows": null,
            "right": null,
            "justify_content": null,
            "_view_module": "@jupyter-widgets/base",
            "overflow": null,
            "_model_module_version": "1.2.0",
            "_view_count": null,
            "flex_flow": null,
            "width": null,
            "min_width": null,
            "border": null,
            "align_items": null,
            "bottom": null,
            "_model_module": "@jupyter-widgets/base",
            "top": null,
            "grid_column": null,
            "overflow_y": null,
            "overflow_x": null,
            "grid_auto_flow": null,
            "grid_area": null,
            "grid_template_columns": null,
            "flex": null,
            "_model_name": "LayoutModel",
            "justify_items": null,
            "grid_row": null,
            "max_height": null,
            "align_content": null,
            "visibility": null,
            "align_self": null,
            "height": null,
            "min_height": null,
            "padding": null,
            "grid_auto_rows": null,
            "grid_gap": null,
            "max_width": null,
            "order": null,
            "_view_module_version": "1.2.0",
            "grid_template_areas": null,
            "object_position": null,
            "object_fit": null,
            "grid_auto_columns": null,
            "margin": null,
            "display": null,
            "left": null
          }
        },
        "01e2af54a2754a709294fe3c37858174": {
          "model_module": "@jupyter-widgets/controls",
          "model_name": "DescriptionStyleModel",
          "state": {
            "_view_name": "StyleView",
            "_model_name": "DescriptionStyleModel",
            "description_width": "",
            "_view_module": "@jupyter-widgets/base",
            "_model_module_version": "1.5.0",
            "_view_count": null,
            "_view_module_version": "1.2.0",
            "_model_module": "@jupyter-widgets/controls"
          }
        },
        "934656666efb429896491e1be894c91b": {
          "model_module": "@jupyter-widgets/base",
          "model_name": "LayoutModel",
          "state": {
            "_view_name": "LayoutView",
            "grid_template_rows": null,
            "right": null,
            "justify_content": null,
            "_view_module": "@jupyter-widgets/base",
            "overflow": null,
            "_model_module_version": "1.2.0",
            "_view_count": null,
            "flex_flow": null,
            "width": null,
            "min_width": null,
            "border": null,
            "align_items": null,
            "bottom": null,
            "_model_module": "@jupyter-widgets/base",
            "top": null,
            "grid_column": null,
            "overflow_y": null,
            "overflow_x": null,
            "grid_auto_flow": null,
            "grid_area": null,
            "grid_template_columns": null,
            "flex": null,
            "_model_name": "LayoutModel",
            "justify_items": null,
            "grid_row": null,
            "max_height": null,
            "align_content": null,
            "visibility": null,
            "align_self": null,
            "height": null,
            "min_height": null,
            "padding": null,
            "grid_auto_rows": null,
            "grid_gap": null,
            "max_width": null,
            "order": null,
            "_view_module_version": "1.2.0",
            "grid_template_areas": null,
            "object_position": null,
            "object_fit": null,
            "grid_auto_columns": null,
            "margin": null,
            "display": null,
            "left": null
          }
        },
        "f1cb0dff79ed488fa0cc5d0cdb9b9c4b": {
          "model_module": "@jupyter-widgets/controls",
          "model_name": "HBoxModel",
          "state": {
            "_view_name": "HBoxView",
            "_dom_classes": [],
            "_model_name": "HBoxModel",
            "_view_module": "@jupyter-widgets/controls",
            "_model_module_version": "1.5.0",
            "_view_count": null,
            "_view_module_version": "1.5.0",
            "box_style": "",
            "layout": "IPY_MODEL_711c84513252446792ba02583a094abd",
            "_model_module": "@jupyter-widgets/controls",
            "children": [
              "IPY_MODEL_6af033d7fba94734a10f0304279441e9",
              "IPY_MODEL_9ba15145768743d8bbc6f2de0b50581b"
            ]
          }
        },
        "711c84513252446792ba02583a094abd": {
          "model_module": "@jupyter-widgets/base",
          "model_name": "LayoutModel",
          "state": {
            "_view_name": "LayoutView",
            "grid_template_rows": null,
            "right": null,
            "justify_content": null,
            "_view_module": "@jupyter-widgets/base",
            "overflow": null,
            "_model_module_version": "1.2.0",
            "_view_count": null,
            "flex_flow": null,
            "width": null,
            "min_width": null,
            "border": null,
            "align_items": null,
            "bottom": null,
            "_model_module": "@jupyter-widgets/base",
            "top": null,
            "grid_column": null,
            "overflow_y": null,
            "overflow_x": null,
            "grid_auto_flow": null,
            "grid_area": null,
            "grid_template_columns": null,
            "flex": null,
            "_model_name": "LayoutModel",
            "justify_items": null,
            "grid_row": null,
            "max_height": null,
            "align_content": null,
            "visibility": null,
            "align_self": null,
            "height": null,
            "min_height": null,
            "padding": null,
            "grid_auto_rows": null,
            "grid_gap": null,
            "max_width": null,
            "order": null,
            "_view_module_version": "1.2.0",
            "grid_template_areas": null,
            "object_position": null,
            "object_fit": null,
            "grid_auto_columns": null,
            "margin": null,
            "display": null,
            "left": null
          }
        },
        "6af033d7fba94734a10f0304279441e9": {
          "model_module": "@jupyter-widgets/controls",
          "model_name": "FloatProgressModel",
          "state": {
            "_view_name": "ProgressView",
            "style": "IPY_MODEL_8caacd0da2b64fbf9b5a6e8ad80e9f19",
            "_dom_classes": [],
            "description": "Downloading: 100%",
            "_model_name": "FloatProgressModel",
            "bar_style": "success",
            "max": 825924,
            "_view_module": "@jupyter-widgets/controls",
            "_model_module_version": "1.5.0",
            "value": 825924,
            "_view_count": null,
            "_view_module_version": "1.5.0",
            "orientation": "horizontal",
            "min": 0,
            "description_tooltip": null,
            "_model_module": "@jupyter-widgets/controls",
            "layout": "IPY_MODEL_16a9f4c1bb8d46368d1fceeaefa10396"
          }
        },
        "9ba15145768743d8bbc6f2de0b50581b": {
          "model_module": "@jupyter-widgets/controls",
          "model_name": "HTMLModel",
          "state": {
            "_view_name": "HTMLView",
            "style": "IPY_MODEL_1e4551ba22ba43669ca5e3f389d353d4",
            "_dom_classes": [],
            "description": "",
            "_model_name": "HTMLModel",
            "placeholder": "​",
            "_view_module": "@jupyter-widgets/controls",
            "_model_module_version": "1.5.0",
            "value": " 826k/826k [00:03&lt;00:00, 230kB/s]",
            "_view_count": null,
            "_view_module_version": "1.5.0",
            "description_tooltip": null,
            "_model_module": "@jupyter-widgets/controls",
            "layout": "IPY_MODEL_abc79b4120124ab2bdc371bb506d63a3"
          }
        },
        "8caacd0da2b64fbf9b5a6e8ad80e9f19": {
          "model_module": "@jupyter-widgets/controls",
          "model_name": "ProgressStyleModel",
          "state": {
            "_view_name": "StyleView",
            "_model_name": "ProgressStyleModel",
            "description_width": "initial",
            "_view_module": "@jupyter-widgets/base",
            "_model_module_version": "1.5.0",
            "_view_count": null,
            "_view_module_version": "1.2.0",
            "bar_color": null,
            "_model_module": "@jupyter-widgets/controls"
          }
        },
        "16a9f4c1bb8d46368d1fceeaefa10396": {
          "model_module": "@jupyter-widgets/base",
          "model_name": "LayoutModel",
          "state": {
            "_view_name": "LayoutView",
            "grid_template_rows": null,
            "right": null,
            "justify_content": null,
            "_view_module": "@jupyter-widgets/base",
            "overflow": null,
            "_model_module_version": "1.2.0",
            "_view_count": null,
            "flex_flow": null,
            "width": null,
            "min_width": null,
            "border": null,
            "align_items": null,
            "bottom": null,
            "_model_module": "@jupyter-widgets/base",
            "top": null,
            "grid_column": null,
            "overflow_y": null,
            "overflow_x": null,
            "grid_auto_flow": null,
            "grid_area": null,
            "grid_template_columns": null,
            "flex": null,
            "_model_name": "LayoutModel",
            "justify_items": null,
            "grid_row": null,
            "max_height": null,
            "align_content": null,
            "visibility": null,
            "align_self": null,
            "height": null,
            "min_height": null,
            "padding": null,
            "grid_auto_rows": null,
            "grid_gap": null,
            "max_width": null,
            "order": null,
            "_view_module_version": "1.2.0",
            "grid_template_areas": null,
            "object_position": null,
            "object_fit": null,
            "grid_auto_columns": null,
            "margin": null,
            "display": null,
            "left": null
          }
        },
        "1e4551ba22ba43669ca5e3f389d353d4": {
          "model_module": "@jupyter-widgets/controls",
          "model_name": "DescriptionStyleModel",
          "state": {
            "_view_name": "StyleView",
            "_model_name": "DescriptionStyleModel",
            "description_width": "",
            "_view_module": "@jupyter-widgets/base",
            "_model_module_version": "1.5.0",
            "_view_count": null,
            "_view_module_version": "1.2.0",
            "_model_module": "@jupyter-widgets/controls"
          }
        },
        "abc79b4120124ab2bdc371bb506d63a3": {
          "model_module": "@jupyter-widgets/base",
          "model_name": "LayoutModel",
          "state": {
            "_view_name": "LayoutView",
            "grid_template_rows": null,
            "right": null,
            "justify_content": null,
            "_view_module": "@jupyter-widgets/base",
            "overflow": null,
            "_model_module_version": "1.2.0",
            "_view_count": null,
            "flex_flow": null,
            "width": null,
            "min_width": null,
            "border": null,
            "align_items": null,
            "bottom": null,
            "_model_module": "@jupyter-widgets/base",
            "top": null,
            "grid_column": null,
            "overflow_y": null,
            "overflow_x": null,
            "grid_auto_flow": null,
            "grid_area": null,
            "grid_template_columns": null,
            "flex": null,
            "_model_name": "LayoutModel",
            "justify_items": null,
            "grid_row": null,
            "max_height": null,
            "align_content": null,
            "visibility": null,
            "align_self": null,
            "height": null,
            "min_height": null,
            "padding": null,
            "grid_auto_rows": null,
            "grid_gap": null,
            "max_width": null,
            "order": null,
            "_view_module_version": "1.2.0",
            "grid_template_areas": null,
            "object_position": null,
            "object_fit": null,
            "grid_auto_columns": null,
            "margin": null,
            "display": null,
            "left": null
          }
        },
        "0dcc72bd47c04cf1b0c0a2d08db56283": {
          "model_module": "@jupyter-widgets/controls",
          "model_name": "HBoxModel",
          "state": {
            "_view_name": "HBoxView",
            "_dom_classes": [],
            "_model_name": "HBoxModel",
            "_view_module": "@jupyter-widgets/controls",
            "_model_module_version": "1.5.0",
            "_view_count": null,
            "_view_module_version": "1.5.0",
            "box_style": "",
            "layout": "IPY_MODEL_275edffd3edd4d9483061dbd340c1c49",
            "_model_module": "@jupyter-widgets/controls",
            "children": [
              "IPY_MODEL_ce1dccf338d944878c4a1561d9e6c771",
              "IPY_MODEL_e1c01095f7c24dc29b909a68b0fb4607"
            ]
          }
        },
        "275edffd3edd4d9483061dbd340c1c49": {
          "model_module": "@jupyter-widgets/base",
          "model_name": "LayoutModel",
          "state": {
            "_view_name": "LayoutView",
            "grid_template_rows": null,
            "right": null,
            "justify_content": null,
            "_view_module": "@jupyter-widgets/base",
            "overflow": null,
            "_model_module_version": "1.2.0",
            "_view_count": null,
            "flex_flow": null,
            "width": null,
            "min_width": null,
            "border": null,
            "align_items": null,
            "bottom": null,
            "_model_module": "@jupyter-widgets/base",
            "top": null,
            "grid_column": null,
            "overflow_y": null,
            "overflow_x": null,
            "grid_auto_flow": null,
            "grid_area": null,
            "grid_template_columns": null,
            "flex": null,
            "_model_name": "LayoutModel",
            "justify_items": null,
            "grid_row": null,
            "max_height": null,
            "align_content": null,
            "visibility": null,
            "align_self": null,
            "height": null,
            "min_height": null,
            "padding": null,
            "grid_auto_rows": null,
            "grid_gap": null,
            "max_width": null,
            "order": null,
            "_view_module_version": "1.2.0",
            "grid_template_areas": null,
            "object_position": null,
            "object_fit": null,
            "grid_auto_columns": null,
            "margin": null,
            "display": null,
            "left": null
          }
        },
        "ce1dccf338d944878c4a1561d9e6c771": {
          "model_module": "@jupyter-widgets/controls",
          "model_name": "FloatProgressModel",
          "state": {
            "_view_name": "ProgressView",
            "style": "IPY_MODEL_0a44e1ccbf9d4d3e9180766bfec1c712",
            "_dom_classes": [],
            "description": "Downloading: 100%",
            "_model_name": "FloatProgressModel",
            "bar_style": "success",
            "max": 1590040,
            "_view_module": "@jupyter-widgets/controls",
            "_model_module_version": "1.5.0",
            "value": 1590040,
            "_view_count": null,
            "_view_module_version": "1.5.0",
            "orientation": "horizontal",
            "min": 0,
            "description_tooltip": null,
            "_model_module": "@jupyter-widgets/controls",
            "layout": "IPY_MODEL_e5288380cc154609a4717094ec96c5d2"
          }
        },
        "e1c01095f7c24dc29b909a68b0fb4607": {
          "model_module": "@jupyter-widgets/controls",
          "model_name": "HTMLModel",
          "state": {
            "_view_name": "HTMLView",
            "style": "IPY_MODEL_1d1b8ed877c3477fbf42cdf1eb985ee2",
            "_dom_classes": [],
            "description": "",
            "_model_name": "HTMLModel",
            "placeholder": "​",
            "_view_module": "@jupyter-widgets/controls",
            "_model_module_version": "1.5.0",
            "value": " 1.59M/1.59M [00:02&lt;00:00, 586kB/s]",
            "_view_count": null,
            "_view_module_version": "1.5.0",
            "description_tooltip": null,
            "_model_module": "@jupyter-widgets/controls",
            "layout": "IPY_MODEL_d1a315535ecd4a9986e9bd7f898c91d6"
          }
        },
        "0a44e1ccbf9d4d3e9180766bfec1c712": {
          "model_module": "@jupyter-widgets/controls",
          "model_name": "ProgressStyleModel",
          "state": {
            "_view_name": "StyleView",
            "_model_name": "ProgressStyleModel",
            "description_width": "initial",
            "_view_module": "@jupyter-widgets/base",
            "_model_module_version": "1.5.0",
            "_view_count": null,
            "_view_module_version": "1.2.0",
            "bar_color": null,
            "_model_module": "@jupyter-widgets/controls"
          }
        },
        "e5288380cc154609a4717094ec96c5d2": {
          "model_module": "@jupyter-widgets/base",
          "model_name": "LayoutModel",
          "state": {
            "_view_name": "LayoutView",
            "grid_template_rows": null,
            "right": null,
            "justify_content": null,
            "_view_module": "@jupyter-widgets/base",
            "overflow": null,
            "_model_module_version": "1.2.0",
            "_view_count": null,
            "flex_flow": null,
            "width": null,
            "min_width": null,
            "border": null,
            "align_items": null,
            "bottom": null,
            "_model_module": "@jupyter-widgets/base",
            "top": null,
            "grid_column": null,
            "overflow_y": null,
            "overflow_x": null,
            "grid_auto_flow": null,
            "grid_area": null,
            "grid_template_columns": null,
            "flex": null,
            "_model_name": "LayoutModel",
            "justify_items": null,
            "grid_row": null,
            "max_height": null,
            "align_content": null,
            "visibility": null,
            "align_self": null,
            "height": null,
            "min_height": null,
            "padding": null,
            "grid_auto_rows": null,
            "grid_gap": null,
            "max_width": null,
            "order": null,
            "_view_module_version": "1.2.0",
            "grid_template_areas": null,
            "object_position": null,
            "object_fit": null,
            "grid_auto_columns": null,
            "margin": null,
            "display": null,
            "left": null
          }
        },
        "1d1b8ed877c3477fbf42cdf1eb985ee2": {
          "model_module": "@jupyter-widgets/controls",
          "model_name": "DescriptionStyleModel",
          "state": {
            "_view_name": "StyleView",
            "_model_name": "DescriptionStyleModel",
            "description_width": "",
            "_view_module": "@jupyter-widgets/base",
            "_model_module_version": "1.5.0",
            "_view_count": null,
            "_view_module_version": "1.2.0",
            "_model_module": "@jupyter-widgets/controls"
          }
        },
        "d1a315535ecd4a9986e9bd7f898c91d6": {
          "model_module": "@jupyter-widgets/base",
          "model_name": "LayoutModel",
          "state": {
            "_view_name": "LayoutView",
            "grid_template_rows": null,
            "right": null,
            "justify_content": null,
            "_view_module": "@jupyter-widgets/base",
            "overflow": null,
            "_model_module_version": "1.2.0",
            "_view_count": null,
            "flex_flow": null,
            "width": null,
            "min_width": null,
            "border": null,
            "align_items": null,
            "bottom": null,
            "_model_module": "@jupyter-widgets/base",
            "top": null,
            "grid_column": null,
            "overflow_y": null,
            "overflow_x": null,
            "grid_auto_flow": null,
            "grid_area": null,
            "grid_template_columns": null,
            "flex": null,
            "_model_name": "LayoutModel",
            "justify_items": null,
            "grid_row": null,
            "max_height": null,
            "align_content": null,
            "visibility": null,
            "align_self": null,
            "height": null,
            "min_height": null,
            "padding": null,
            "grid_auto_rows": null,
            "grid_gap": null,
            "max_width": null,
            "order": null,
            "_view_module_version": "1.2.0",
            "grid_template_areas": null,
            "object_position": null,
            "object_fit": null,
            "grid_auto_columns": null,
            "margin": null,
            "display": null,
            "left": null
          }
        }
      }
    }
  },
  "cells": [
    {
      "cell_type": "markdown",
      "metadata": {
        "id": "view-in-github",
        "colab_type": "text"
      },
      "source": [
        "<a href=\"https://colab.research.google.com/github/RodrigoAcev/SA-PeruvianPresidentialCandidates/blob/main/TA_AnalisisSentimiento_MensajePresidencial.ipynb\" target=\"_parent\"><img src=\"https://colab.research.google.com/assets/colab-badge.svg\" alt=\"Open In Colab\"/></a>"
      ]
    },
    {
      "cell_type": "code",
      "metadata": {
        "colab": {
          "base_uri": "https://localhost:8080/"
        },
        "id": "2-zJPfZ3vc30",
        "outputId": "99ba7a56-30f5-4661-d2a4-dbbdaf7de8fe"
      },
      "source": [
        "!python -m spacy download es_core_news_sm"
      ],
      "execution_count": null,
      "outputs": [
        {
          "output_type": "stream",
          "text": [
            "Collecting es_core_news_sm==2.2.5\n",
            "  Downloading https://github.com/explosion/spacy-models/releases/download/es_core_news_sm-2.2.5/es_core_news_sm-2.2.5.tar.gz (16.2 MB)\n",
            "\u001b[K     |████████████████████████████████| 16.2 MB 7.6 MB/s \n",
            "\u001b[?25hRequirement already satisfied: spacy>=2.2.2 in /usr/local/lib/python3.7/dist-packages (from es_core_news_sm==2.2.5) (2.2.4)\n",
            "Requirement already satisfied: cymem<2.1.0,>=2.0.2 in /usr/local/lib/python3.7/dist-packages (from spacy>=2.2.2->es_core_news_sm==2.2.5) (2.0.5)\n",
            "Requirement already satisfied: srsly<1.1.0,>=1.0.2 in /usr/local/lib/python3.7/dist-packages (from spacy>=2.2.2->es_core_news_sm==2.2.5) (1.0.5)\n",
            "Requirement already satisfied: wasabi<1.1.0,>=0.4.0 in /usr/local/lib/python3.7/dist-packages (from spacy>=2.2.2->es_core_news_sm==2.2.5) (0.8.2)\n",
            "Requirement already satisfied: setuptools in /usr/local/lib/python3.7/dist-packages (from spacy>=2.2.2->es_core_news_sm==2.2.5) (57.2.0)\n",
            "Requirement already satisfied: tqdm<5.0.0,>=4.38.0 in /usr/local/lib/python3.7/dist-packages (from spacy>=2.2.2->es_core_news_sm==2.2.5) (4.41.1)\n",
            "Requirement already satisfied: thinc==7.4.0 in /usr/local/lib/python3.7/dist-packages (from spacy>=2.2.2->es_core_news_sm==2.2.5) (7.4.0)\n",
            "Requirement already satisfied: plac<1.2.0,>=0.9.6 in /usr/local/lib/python3.7/dist-packages (from spacy>=2.2.2->es_core_news_sm==2.2.5) (1.1.3)\n",
            "Requirement already satisfied: murmurhash<1.1.0,>=0.28.0 in /usr/local/lib/python3.7/dist-packages (from spacy>=2.2.2->es_core_news_sm==2.2.5) (1.0.5)\n",
            "Requirement already satisfied: preshed<3.1.0,>=3.0.2 in /usr/local/lib/python3.7/dist-packages (from spacy>=2.2.2->es_core_news_sm==2.2.5) (3.0.5)\n",
            "Requirement already satisfied: requests<3.0.0,>=2.13.0 in /usr/local/lib/python3.7/dist-packages (from spacy>=2.2.2->es_core_news_sm==2.2.5) (2.23.0)\n",
            "Requirement already satisfied: numpy>=1.15.0 in /usr/local/lib/python3.7/dist-packages (from spacy>=2.2.2->es_core_news_sm==2.2.5) (1.19.5)\n",
            "Requirement already satisfied: catalogue<1.1.0,>=0.0.7 in /usr/local/lib/python3.7/dist-packages (from spacy>=2.2.2->es_core_news_sm==2.2.5) (1.0.0)\n",
            "Requirement already satisfied: blis<0.5.0,>=0.4.0 in /usr/local/lib/python3.7/dist-packages (from spacy>=2.2.2->es_core_news_sm==2.2.5) (0.4.1)\n",
            "Requirement already satisfied: importlib-metadata>=0.20 in /usr/local/lib/python3.7/dist-packages (from catalogue<1.1.0,>=0.0.7->spacy>=2.2.2->es_core_news_sm==2.2.5) (4.6.1)\n",
            "Requirement already satisfied: typing-extensions>=3.6.4 in /usr/local/lib/python3.7/dist-packages (from importlib-metadata>=0.20->catalogue<1.1.0,>=0.0.7->spacy>=2.2.2->es_core_news_sm==2.2.5) (3.7.4.3)\n",
            "Requirement already satisfied: zipp>=0.5 in /usr/local/lib/python3.7/dist-packages (from importlib-metadata>=0.20->catalogue<1.1.0,>=0.0.7->spacy>=2.2.2->es_core_news_sm==2.2.5) (3.5.0)\n",
            "Requirement already satisfied: certifi>=2017.4.17 in /usr/local/lib/python3.7/dist-packages (from requests<3.0.0,>=2.13.0->spacy>=2.2.2->es_core_news_sm==2.2.5) (2021.5.30)\n",
            "Requirement already satisfied: idna<3,>=2.5 in /usr/local/lib/python3.7/dist-packages (from requests<3.0.0,>=2.13.0->spacy>=2.2.2->es_core_news_sm==2.2.5) (2.10)\n",
            "Requirement already satisfied: urllib3!=1.25.0,!=1.25.1,<1.26,>=1.21.1 in /usr/local/lib/python3.7/dist-packages (from requests<3.0.0,>=2.13.0->spacy>=2.2.2->es_core_news_sm==2.2.5) (1.24.3)\n",
            "Requirement already satisfied: chardet<4,>=3.0.2 in /usr/local/lib/python3.7/dist-packages (from requests<3.0.0,>=2.13.0->spacy>=2.2.2->es_core_news_sm==2.2.5) (3.0.4)\n",
            "\u001b[38;5;2m✔ Download and installation successful\u001b[0m\n",
            "You can now load the model via spacy.load('es_core_news_sm')\n"
          ],
          "name": "stdout"
        }
      ]
    },
    {
      "cell_type": "code",
      "metadata": {
        "id": "FhikL2cTva45"
      },
      "source": [
        "import spacy\n",
        "nlp = spacy.load(\"es_core_news_sm\")"
      ],
      "execution_count": null,
      "outputs": []
    },
    {
      "cell_type": "code",
      "metadata": {
        "colab": {
          "base_uri": "https://localhost:8080/"
        },
        "id": "0xniVv3swNpf",
        "outputId": "5de8bc2d-b916-40d3-948c-cd878d6c013f"
      },
      "source": [
        "import numpy as np\n",
        "import pandas as pd\n",
        "\n",
        "import matplotlib.pyplot as plt\n",
        "from wordcloud import WordCloud\n",
        "\n",
        "import string\n",
        "\n",
        "import nltk\n",
        "import re\n",
        "nltk.download('stopwords')\n",
        "nltk.download('punkt')\n",
        "nltk.download('wordnet')\n",
        "from nltk import word_tokenize\n",
        "from nltk.corpus import stopwords\n",
        "from nltk import FreqDist\n",
        "from nltk.stem import PorterStemmer, WordNetLemmatizer, SnowballStemmer\n",
        "from nltk.tokenize import sent_tokenize"
      ],
      "execution_count": null,
      "outputs": [
        {
          "output_type": "stream",
          "text": [
            "[nltk_data] Downloading package stopwords to /root/nltk_data...\n",
            "[nltk_data]   Unzipping corpora/stopwords.zip.\n",
            "[nltk_data] Downloading package punkt to /root/nltk_data...\n",
            "[nltk_data]   Unzipping tokenizers/punkt.zip.\n",
            "[nltk_data] Downloading package wordnet to /root/nltk_data...\n",
            "[nltk_data]   Unzipping corpora/wordnet.zip.\n"
          ],
          "name": "stdout"
        }
      ]
    },
    {
      "cell_type": "code",
      "metadata": {
        "id": "RWBy9t6Lwa69"
      },
      "source": [
        "stop_words_es = set(stopwords.words('spanish'))"
      ],
      "execution_count": null,
      "outputs": []
    },
    {
      "cell_type": "code",
      "metadata": {
        "colab": {
          "base_uri": "https://localhost:8080/",
          "height": 35
        },
        "id": "9be38zAO0z7M",
        "outputId": "0109ad9a-50aa-4784-ebd2-f66a18b1bd4b"
      },
      "source": [
        "string.ascii_uppercase"
      ],
      "execution_count": null,
      "outputs": [
        {
          "output_type": "execute_result",
          "data": {
            "application/vnd.google.colaboratory.intrinsic+json": {
              "type": "string"
            },
            "text/plain": [
              "'ABCDEFGHIJKLMNOPQRSTUVWXYZ'"
            ]
          },
          "metadata": {
            "tags": []
          },
          "execution_count": 5
        }
      ]
    },
    {
      "cell_type": "code",
      "metadata": {
        "colab": {
          "base_uri": "https://localhost:8080/",
          "height": 35
        },
        "id": "aeCw99Z378aq",
        "outputId": "cb99f39b-3bab-47b4-c365-fa3e715b0317"
      },
      "source": [
        "string.punctuation"
      ],
      "execution_count": null,
      "outputs": [
        {
          "output_type": "execute_result",
          "data": {
            "application/vnd.google.colaboratory.intrinsic+json": {
              "type": "string"
            },
            "text/plain": [
              "'!\"#$%&\\'()*+,-./:;<=>?@[\\\\]^_`{|}~'"
            ]
          },
          "metadata": {
            "tags": []
          },
          "execution_count": 6
        }
      ]
    },
    {
      "cell_type": "code",
      "metadata": {
        "colab": {
          "base_uri": "https://localhost:8080/",
          "height": 35
        },
        "id": "V9miktz91l-l",
        "outputId": "441b2876-2022-439c-9297-1f9a5af1fec2"
      },
      "source": [
        "no_points = string.punctuation.replace('.','')\n",
        "no_points = no_points.replace(',','')\n",
        "no_points"
      ],
      "execution_count": null,
      "outputs": [
        {
          "output_type": "execute_result",
          "data": {
            "application/vnd.google.colaboratory.intrinsic+json": {
              "type": "string"
            },
            "text/plain": [
              "'!\"#$%&\\'()*+-/:;<=>?@[\\\\]^_`{|}~'"
            ]
          },
          "metadata": {
            "tags": []
          },
          "execution_count": 7
        }
      ]
    },
    {
      "cell_type": "code",
      "metadata": {
        "id": "ccsvMHrhwll5"
      },
      "source": [
        "def PreprocesaTexto(oracion):\n",
        "    if type(oracion)!=str:\n",
        "        return None\n",
        "    else:\n",
        "        for punct in string.punctuation:\n",
        "            oracion = oracion.replace(punct, ' ')\n",
        "        for mayus_l in string.ascii_uppercase:\n",
        "            oracion = oracion.replace(mayus_l, f' {mayus_l}')\n",
        "        oracion = oracion.replace('”', ' ')\n",
        "        oracion = oracion.replace('“', ' ')\n",
        "\n",
        "        oracion = oracion.lower() \n",
        "        doc = nlp(oracion)\n",
        "        token_pro = [token.lemma_ for token in doc if not(token.text in stop_words_es)]\n",
        "        token_pro = [tkn for tkn in token_pro if (tkn.isalpha())and(len(tkn)>1)]\n",
        "        \n",
        "        return ' '.join(token_pro)"
      ],
      "execution_count": null,
      "outputs": []
    },
    {
      "cell_type": "code",
      "metadata": {
        "id": "UZF5c4vV8i4e"
      },
      "source": [
        "def CheckValid_word2(word):\n",
        "    if ((word.isalpha())and(len(word)>1))or(word==',')or(word=='.'):\n",
        "        return True\n",
        "    else:\n",
        "        return False"
      ],
      "execution_count": null,
      "outputs": []
    },
    {
      "cell_type": "code",
      "metadata": {
        "id": "DU6-CxaH7phr"
      },
      "source": [
        "def PreprocesaTexto_2(oracion):\n",
        "    if type(oracion)!=str:\n",
        "        return None\n",
        "    else:\n",
        "        for punct in no_points:\n",
        "            oracion = oracion.replace(punct, ' ')\n",
        "        for mayus_l in string.ascii_uppercase:\n",
        "            oracion = oracion.replace(mayus_l, f' {mayus_l}')\n",
        "        oracion = oracion.replace('”', ' ')\n",
        "        oracion = oracion.replace('“', ' ')\n",
        "        oracion = oracion.replace('.', ' . ')\n",
        "        oracion = oracion.replace(',', ' , ')\n",
        "\n",
        "        oracion = oracion.lower() \n",
        "        #doc = nlp(oracion)\n",
        "        #token_pro = [token.lemma_ for token in doc if not(token.text in stop_words_es)]\n",
        "        ##token_pro = [x for x in word_tokenize(oracion) if not(x in stop_words_es)]\n",
        "        token_pro = oracion.split()\n",
        "        token_pro = [tkn for tkn in token_pro if CheckValid_word2(tkn)]\n",
        "        \n",
        "        return ' '.join(token_pro)"
      ],
      "execution_count": null,
      "outputs": []
    },
    {
      "cell_type": "code",
      "metadata": {
        "id": "C9MRJbLj5lfA"
      },
      "source": [
        "def GetKeyWords(doc, top_kw=5):\n",
        "    #tokens_list\n",
        "    tokens = word_tokenize(doc)\n",
        "    freq = FreqDist(tokens)\n",
        "    return np.array(freq.most_common(top_kw))[:,0]\n"
      ],
      "execution_count": null,
      "outputs": []
    },
    {
      "cell_type": "code",
      "metadata": {
        "colab": {
          "base_uri": "https://localhost:8080/"
        },
        "id": "aZXlxr134yis",
        "outputId": "2a7df9fa-2e95-4df4-e5a9-3f8d4d344f40"
      },
      "source": [
        "#!wget https://raw.githubusercontent.com/RodrigoAcev/SA-PeruvianPresidentialCandidates/main/larepublica_100.csv\n",
        "!wget https://raw.githubusercontent.com/RodrigoAcev/SA-PeruvianPresidentialCandidates/main/TA_dataset.csv"
      ],
      "execution_count": null,
      "outputs": [
        {
          "output_type": "stream",
          "text": [
            "--2021-08-01 01:37:21--  https://raw.githubusercontent.com/RodrigoAcev/SA-PeruvianPresidentialCandidates/main/TA_dataset.csv\n",
            "Resolving raw.githubusercontent.com (raw.githubusercontent.com)... 185.199.108.133, 185.199.109.133, 185.199.110.133, ...\n",
            "Connecting to raw.githubusercontent.com (raw.githubusercontent.com)|185.199.108.133|:443... connected.\n",
            "HTTP request sent, awaiting response... 200 OK\n",
            "Length: 2470815 (2.4M) [text/plain]\n",
            "Saving to: ‘TA_dataset.csv’\n",
            "\n",
            "TA_dataset.csv      100%[===================>]   2.36M  --.-KB/s    in 0.05s   \n",
            "\n",
            "2021-08-01 01:37:21 (46.0 MB/s) - ‘TA_dataset.csv’ saved [2470815/2470815]\n",
            "\n"
          ],
          "name": "stdout"
        }
      ]
    },
    {
      "cell_type": "code",
      "metadata": {
        "colab": {
          "base_uri": "https://localhost:8080/",
          "height": 276
        },
        "id": "8H3ISANIzk7P",
        "outputId": "5bd5eb1f-2518-4327-ba66-fc71e20213fb"
      },
      "source": [
        "df_raw = pd.read_csv('TA_dataset.csv')\n",
        "df_raw.head(10).T.iloc[1:,:]"
      ],
      "execution_count": null,
      "outputs": [
        {
          "output_type": "execute_result",
          "data": {
            "text/html": [
              "<div>\n",
              "<style scoped>\n",
              "    .dataframe tbody tr th:only-of-type {\n",
              "        vertical-align: middle;\n",
              "    }\n",
              "\n",
              "    .dataframe tbody tr th {\n",
              "        vertical-align: top;\n",
              "    }\n",
              "\n",
              "    .dataframe thead th {\n",
              "        text-align: right;\n",
              "    }\n",
              "</style>\n",
              "<table border=\"1\" class=\"dataframe\">\n",
              "  <thead>\n",
              "    <tr style=\"text-align: right;\">\n",
              "      <th></th>\n",
              "      <th>0</th>\n",
              "      <th>1</th>\n",
              "      <th>2</th>\n",
              "      <th>3</th>\n",
              "      <th>4</th>\n",
              "      <th>5</th>\n",
              "      <th>6</th>\n",
              "      <th>7</th>\n",
              "      <th>8</th>\n",
              "      <th>9</th>\n",
              "    </tr>\n",
              "  </thead>\n",
              "  <tbody>\n",
              "    <tr>\n",
              "      <th>site</th>\n",
              "      <td>diariocorreo</td>\n",
              "      <td>diariocorreo</td>\n",
              "      <td>diariocorreo</td>\n",
              "      <td>diariocorreo</td>\n",
              "      <td>diariocorreo</td>\n",
              "      <td>diariocorreo</td>\n",
              "      <td>diariocorreo</td>\n",
              "      <td>diariocorreo</td>\n",
              "      <td>diariocorreo</td>\n",
              "      <td>diariocorreo</td>\n",
              "    </tr>\n",
              "    <tr>\n",
              "      <th>publish_date</th>\n",
              "      <td>2021-07-29 23:55:16.656000+00:00</td>\n",
              "      <td>2021-07-29 23:48:20.264000+00:00</td>\n",
              "      <td>2021-07-29 23:27:32.719000+00:00</td>\n",
              "      <td>2021-07-29 23:27:10.005000+00:00</td>\n",
              "      <td>2021-07-29 23:05:02.514000+00:00</td>\n",
              "      <td>2021-07-29 21:03:14.998000+00:00</td>\n",
              "      <td>2021-07-29 20:52:33.355000+00:00</td>\n",
              "      <td>2021-07-29 20:11:01.618000+00:00</td>\n",
              "      <td>2021-07-29 19:40:18.175000+00:00</td>\n",
              "      <td>2021-07-29 18:48:45.293000+00:00</td>\n",
              "    </tr>\n",
              "    <tr>\n",
              "      <th>title</th>\n",
              "      <td>Pedro Castillo a delincuentes extranjeros: “Te...</td>\n",
              "      <td>María del Carmen Alva sobre Sagasti: “Le invit...</td>\n",
              "      <td>Keiko Fujimori a Pedro Castillo: “Seremos un m...</td>\n",
              "      <td>Francisco Sagasti fue denunciado por genocidio...</td>\n",
              "      <td>Julio Arbizu tilda de “primer grave error polí...</td>\n",
              "      <td>Guido Bellido, el nuevo presidente del Consejo...</td>\n",
              "      <td>Congresistas opinaron sobre designación de Gui...</td>\n",
              "      <td>Juramentación de ministros será en el Gran Tea...</td>\n",
              "      <td>Pedro Castillo: “Seré el primero en sancionar ...</td>\n",
              "      <td>EN VIVO | Guido Bellido es el presidente del C...</td>\n",
              "    </tr>\n",
              "    <tr>\n",
              "      <th>content</th>\n",
              "      <td>Pedro Castillo anuncia que no gobernará desde ...</td>\n",
              "      <td>La presidenta del Congreso, María del Carmen A...</td>\n",
              "      <td>“A 200 años de que lográramos una República li...</td>\n",
              "      <td>El presidente Francisco Sagasti fue denunciado...</td>\n",
              "      <td>Exprocurador que integró el equipo de transfer...</td>\n",
              "      <td>El nombrado titular de la PCM increpó en el de...</td>\n",
              "      <td>Los legisladores de Juntos por el Perú, Avanza...</td>\n",
              "      <td>La ceremonia programada para el viernes 30 de ...</td>\n",
              "      <td>Presidente convocó a la población a estar vigi...</td>\n",
              "      <td>Esta tarde Bellido asumió al cargo en la Pampa...</td>\n",
              "    </tr>\n",
              "  </tbody>\n",
              "</table>\n",
              "</div>"
            ],
            "text/plain": [
              "                                                              0  ...                                                  9\n",
              "site                                               diariocorreo  ...                                       diariocorreo\n",
              "publish_date                   2021-07-29 23:55:16.656000+00:00  ...                   2021-07-29 18:48:45.293000+00:00\n",
              "title         Pedro Castillo a delincuentes extranjeros: “Te...  ...  EN VIVO | Guido Bellido es el presidente del C...\n",
              "content       Pedro Castillo anuncia que no gobernará desde ...  ...  Esta tarde Bellido asumió al cargo en la Pampa...\n",
              "\n",
              "[4 rows x 10 columns]"
            ]
          },
          "metadata": {
            "tags": []
          },
          "execution_count": 13
        }
      ]
    },
    {
      "cell_type": "code",
      "metadata": {
        "colab": {
          "base_uri": "https://localhost:8080/",
          "height": 69
        },
        "id": "ttPjpqmM0AuZ",
        "outputId": "2dabf0dc-c88b-4aba-8aba-65ad7dbffdc6"
      },
      "source": [
        "txt_sample = df_raw.loc[0,'content']\n",
        "txt_sample[:300]"
      ],
      "execution_count": null,
      "outputs": [
        {
          "output_type": "execute_result",
          "data": {
            "application/vnd.google.colaboratory.intrinsic+json": {
              "type": "string"
            },
            "text/plain": [
              "'Pedro Castillo anuncia que no gobernará desde Palacio de Gobierno. (Foto: Twitter \\n@PedroCastilloTe Redacción Diario CorreoActualizado el 29/07/2021 06:55 p.m.El presidente de la República, Pedro Castillo, en su primer mensaje a la Nación, dio un plazo de 72 horas a todos los delincuentes extranjero'"
            ]
          },
          "metadata": {
            "tags": []
          },
          "execution_count": 14
        }
      ]
    },
    {
      "cell_type": "code",
      "metadata": {
        "colab": {
          "base_uri": "https://localhost:8080/",
          "height": 154
        },
        "id": "HyTECDYs0Q0v",
        "outputId": "acf4a882-53d8-46d3-f504-a6bb9b6c2a83"
      },
      "source": [
        "smp_pro = PreprocesaTexto(txt_sample)\n",
        "smp_pro"
      ],
      "execution_count": null,
      "outputs": [
        {
          "output_type": "execute_result",
          "data": {
            "application/vnd.google.colaboratory.intrinsic+json": {
              "type": "string"
            },
            "text/plain": [
              "'pedro castillo anunciar gobernar palacio gobernar foto twitter pedro castillo redacción diario correar actualizar página metro presidente república pedro castillo mensaje nación dar plazo hora delincuente extranjero salir país metro segundo jorge muñoz tras discursar pedro castillo preocupar temer ronderos decir anunciar realizar tras llegar congreso república juramentar cargar presidente república variedad temer tocar discursar mandatario referir seguridad ciudadano castillo terrón explicar problema población policía luchar mal suficiente pesar esforzar seguir campear banda robo callejero agregar explicar gobernar pensar expandir sistema rondar campesino perú coser población organizar dar seguridad convocar conformarlas existir aseverar mandatario página segundo partir morar indicar designación guido bellido titular página metro atento gobernabilidad agregar fortalecer ley rondar respetar autonomía lado castillo dar ultimátum delincuente extranjero ingresar país delinquir hora plazo partir fecho salir país sentenciar castillo metro fiesta patrio cuál medir restrictivo julio ministro comerciar exterior turismo claudia cornejo informar cuál restricción julio motivar celebración fiesta patrio mediar segundar ola coronavirus descenso tags relacionar pedro castillo bicentenario independencia perú página segundo contener mag perro guio do extraño pozo alquitrán pedir rescatar pequeño cachorro xena princesa guerrero lucy lawless año después estrenar seriar whats app trucar agregar efecto sonido noto voz segundo jimin casi quedo agrupación pop whats app conocer significar emoji conejitas playboy lulu lakatos mujer cambiar diamante valuar millón dólar piedra común'"
            ]
          },
          "metadata": {
            "tags": []
          },
          "execution_count": 15
        }
      ]
    },
    {
      "cell_type": "code",
      "metadata": {
        "colab": {
          "base_uri": "https://localhost:8080/",
          "height": 154
        },
        "id": "YstQhobO9EG_",
        "outputId": "2d9e96f1-843c-4211-b0e4-3dfc6d5c0012"
      },
      "source": [
        "smp_pro = PreprocesaTexto_2(txt_sample)\n",
        "smp_pro"
      ],
      "execution_count": null,
      "outputs": [
        {
          "output_type": "execute_result",
          "data": {
            "application/vnd.google.colaboratory.intrinsic+json": {
              "type": "string"
            },
            "text/plain": [
              "'pedro castillo anuncia que no gobernará desde palacio de gobierno . foto twitter pedro castillo te redacción diario correo actualizado el . . el presidente de la república , pedro castillo , en su primer mensaje la nación , dio un plazo de horas todos los delincuentes extranjeros para que salgan del país . jorge muñoz tras discurso de pedro castillo me preocupa el tema de los ronderos dicho anuncio lo realizó tras su llegada al congreso de la república , donde juramentó al cargo de presidente de la república . entre la variedad de temas que tocó , en su primer discurso como mandatario , se refirió la seguridad ciudadana . castillo terrones explicó que esta es uno de los problemas más sentidos por la población . la policía lucha contra este mal pero eso no es suficiente . . . pese al esfuerzo , siguen campeando las bandas robos callejeros , agregó . en ese sentido , explicó que su gobierno piensa en expandir el sistemas de rondas campesinas en el perú . esto no es otra cosa que la población organizada para dar seguridad todos . . . convocamos todos para conformarlas en donde no existan , aseveró el mandatario . partido morado indica que designación de guido bellido como titular de la atenta contra la gobernabilidad se agregó que fortalecerán la ley de rondas respetarán su autonomía . de lado , castillo dio un ultimátum para todos los delincuentes extranjeros que ingresaron al país para delinquir . tendrán horas de plazo , partir de la fecha , para salir del país , sentenció castillo . fiestas patrias cuáles son las medidas restrictivas para el de julio por el la ministra de comercio exterior turismo , claudia cornejo , informó cuáles serán las restricciones por de julio , con motivo de las celebraciones por fiestas patrias , en medio de la segunda ola del coronavirus que está en descenso . tags relacionados pedro castillo bicentenario de la independencia del perú contenido de mag . una perra guio dos extraños hasta un pozo de alquitrán que rescaten su pequeño cachorro xena , la princesa guerrera lucy lawless , años después del estreno de la serie whats app truco para agregar efectos de sonido las notas de voz por qué jimin casi queda fuera de la agrupación de pop whats app conoce el significado de este emoji que no son conejitas de playboy lulu lakatos , la mujer que cambió diamantes valuados en millones de dólares por piedras comunes'"
            ]
          },
          "metadata": {
            "tags": []
          },
          "execution_count": 16
        }
      ]
    },
    {
      "cell_type": "code",
      "metadata": {
        "id": "C9O9RsaC3nPF",
        "colab": {
          "base_uri": "https://localhost:8080/"
        },
        "outputId": "e012a67c-b7b6-4463-edde-aedc9bfdf9df"
      },
      "source": [
        "GetKeyWords(smp_pro)"
      ],
      "execution_count": null,
      "outputs": [
        {
          "output_type": "execute_result",
          "data": {
            "text/plain": [
              "array(['de', '.', ',', 'la', 'que'], dtype='<U3')"
            ]
          },
          "metadata": {
            "tags": []
          },
          "execution_count": 17
        }
      ]
    },
    {
      "cell_type": "code",
      "metadata": {
        "colab": {
          "base_uri": "https://localhost:8080/",
          "height": 500
        },
        "id": "iSmsq89j9N30",
        "outputId": "d3445b0c-9308-40d9-f7f7-f9111acbd420"
      },
      "source": [
        "df_raw['Pro_text'] = df_raw['content'].apply(PreprocesaTexto)\n",
        "df_raw['Keywords'] = df_raw['Pro_text'].apply(GetKeyWords)\n",
        "df_raw['Texto_puntos'] = df_raw['content'].apply(PreprocesaTexto_2)\n",
        "df_raw.head(10).T"
      ],
      "execution_count": null,
      "outputs": [
        {
          "output_type": "execute_result",
          "data": {
            "text/html": [
              "<div>\n",
              "<style scoped>\n",
              "    .dataframe tbody tr th:only-of-type {\n",
              "        vertical-align: middle;\n",
              "    }\n",
              "\n",
              "    .dataframe tbody tr th {\n",
              "        vertical-align: top;\n",
              "    }\n",
              "\n",
              "    .dataframe thead th {\n",
              "        text-align: right;\n",
              "    }\n",
              "</style>\n",
              "<table border=\"1\" class=\"dataframe\">\n",
              "  <thead>\n",
              "    <tr style=\"text-align: right;\">\n",
              "      <th></th>\n",
              "      <th>0</th>\n",
              "      <th>1</th>\n",
              "      <th>2</th>\n",
              "      <th>3</th>\n",
              "      <th>4</th>\n",
              "      <th>5</th>\n",
              "      <th>6</th>\n",
              "      <th>7</th>\n",
              "      <th>8</th>\n",
              "      <th>9</th>\n",
              "    </tr>\n",
              "  </thead>\n",
              "  <tbody>\n",
              "    <tr>\n",
              "      <th>Unnamed: 0</th>\n",
              "      <td>0</td>\n",
              "      <td>1</td>\n",
              "      <td>2</td>\n",
              "      <td>3</td>\n",
              "      <td>4</td>\n",
              "      <td>5</td>\n",
              "      <td>6</td>\n",
              "      <td>7</td>\n",
              "      <td>8</td>\n",
              "      <td>9</td>\n",
              "    </tr>\n",
              "    <tr>\n",
              "      <th>site</th>\n",
              "      <td>diariocorreo</td>\n",
              "      <td>diariocorreo</td>\n",
              "      <td>diariocorreo</td>\n",
              "      <td>diariocorreo</td>\n",
              "      <td>diariocorreo</td>\n",
              "      <td>diariocorreo</td>\n",
              "      <td>diariocorreo</td>\n",
              "      <td>diariocorreo</td>\n",
              "      <td>diariocorreo</td>\n",
              "      <td>diariocorreo</td>\n",
              "    </tr>\n",
              "    <tr>\n",
              "      <th>publish_date</th>\n",
              "      <td>2021-07-29 23:55:16.656000+00:00</td>\n",
              "      <td>2021-07-29 23:48:20.264000+00:00</td>\n",
              "      <td>2021-07-29 23:27:32.719000+00:00</td>\n",
              "      <td>2021-07-29 23:27:10.005000+00:00</td>\n",
              "      <td>2021-07-29 23:05:02.514000+00:00</td>\n",
              "      <td>2021-07-29 21:03:14.998000+00:00</td>\n",
              "      <td>2021-07-29 20:52:33.355000+00:00</td>\n",
              "      <td>2021-07-29 20:11:01.618000+00:00</td>\n",
              "      <td>2021-07-29 19:40:18.175000+00:00</td>\n",
              "      <td>2021-07-29 18:48:45.293000+00:00</td>\n",
              "    </tr>\n",
              "    <tr>\n",
              "      <th>title</th>\n",
              "      <td>Pedro Castillo a delincuentes extranjeros: “Te...</td>\n",
              "      <td>María del Carmen Alva sobre Sagasti: “Le invit...</td>\n",
              "      <td>Keiko Fujimori a Pedro Castillo: “Seremos un m...</td>\n",
              "      <td>Francisco Sagasti fue denunciado por genocidio...</td>\n",
              "      <td>Julio Arbizu tilda de “primer grave error polí...</td>\n",
              "      <td>Guido Bellido, el nuevo presidente del Consejo...</td>\n",
              "      <td>Congresistas opinaron sobre designación de Gui...</td>\n",
              "      <td>Juramentación de ministros será en el Gran Tea...</td>\n",
              "      <td>Pedro Castillo: “Seré el primero en sancionar ...</td>\n",
              "      <td>EN VIVO | Guido Bellido es el presidente del C...</td>\n",
              "    </tr>\n",
              "    <tr>\n",
              "      <th>content</th>\n",
              "      <td>Pedro Castillo anuncia que no gobernará desde ...</td>\n",
              "      <td>La presidenta del Congreso, María del Carmen A...</td>\n",
              "      <td>“A 200 años de que lográramos una República li...</td>\n",
              "      <td>El presidente Francisco Sagasti fue denunciado...</td>\n",
              "      <td>Exprocurador que integró el equipo de transfer...</td>\n",
              "      <td>El nombrado titular de la PCM increpó en el de...</td>\n",
              "      <td>Los legisladores de Juntos por el Perú, Avanza...</td>\n",
              "      <td>La ceremonia programada para el viernes 30 de ...</td>\n",
              "      <td>Presidente convocó a la población a estar vigi...</td>\n",
              "      <td>Esta tarde Bellido asumió al cargo en la Pampa...</td>\n",
              "    </tr>\n",
              "    <tr>\n",
              "      <th>Pro_text</th>\n",
              "      <td>pedro castillo anunciar gobernar palacio gober...</td>\n",
              "      <td>presidente congreso maría carmen alva responde...</td>\n",
              "      <td>año lograr república librar hoy deber ratifica...</td>\n",
              "      <td>presidente francisco sagasti denunciar excongr...</td>\n",
              "      <td>exprocurador integrar equipar transferencia mi...</td>\n",
              "      <td>nombrar titular página metro increpar detrás c...</td>\n",
              "      <td>legislador junto perú avanzar país forzar popu...</td>\n",
              "      <td>ceremonia programar viernes julio realizar hoy...</td>\n",
              "      <td>presidente convocar población vigilante autori...</td>\n",
              "      <td>tardar bellido asumir cargar pampa quinua ayac...</td>\n",
              "    </tr>\n",
              "    <tr>\n",
              "      <th>Keywords</th>\n",
              "      <td>[castillo, pedro, página, metro, segundo]</td>\n",
              "      <td>[banda, congreso, presidente, sagasti, alva]</td>\n",
              "      <td>[fujimori, keiko, pedro, castillo, nuevo]</td>\n",
              "      <td>[sagasti, francisco, denunciar, ministro, metro]</td>\n",
              "      <td>[guido, bellido, gobernar, espantar, consenso]</td>\n",
              "      <td>[página, sendero, luminoso, edith, lago]</td>\n",
              "      <td>[bellido, página, guido, país, popular]</td>\n",
              "      <td>[metro, julio, página, ceremonia, gran]</td>\n",
              "      <td>[trabajar, perú, convocar, autoridad, país]</td>\n",
              "      <td>[segundo, metro, litro, bellido, partir]</td>\n",
              "    </tr>\n",
              "    <tr>\n",
              "      <th>Texto_puntos</th>\n",
              "      <td>pedro castillo anuncia que no gobernará desde ...</td>\n",
              "      <td>la presidenta del congreso , maría del carmen ...</td>\n",
              "      <td>años de que lográramos una república libre , h...</td>\n",
              "      <td>el presidente francisco sagasti fue denunciado...</td>\n",
              "      <td>exprocurador que integró el equipo de transfer...</td>\n",
              "      <td>el nombrado titular de la increpó en el detrás...</td>\n",
              "      <td>los legisladores de juntos por el perú , avanz...</td>\n",
              "      <td>la ceremonia programada para el viernes de jul...</td>\n",
              "      <td>presidente convocó la población estar vigilant...</td>\n",
              "      <td>esta tarde bellido asumió al cargo en la pampa...</td>\n",
              "    </tr>\n",
              "  </tbody>\n",
              "</table>\n",
              "</div>"
            ],
            "text/plain": [
              "                                                              0  ...                                                  9\n",
              "Unnamed: 0                                                    0  ...                                                  9\n",
              "site                                               diariocorreo  ...                                       diariocorreo\n",
              "publish_date                   2021-07-29 23:55:16.656000+00:00  ...                   2021-07-29 18:48:45.293000+00:00\n",
              "title         Pedro Castillo a delincuentes extranjeros: “Te...  ...  EN VIVO | Guido Bellido es el presidente del C...\n",
              "content       Pedro Castillo anuncia que no gobernará desde ...  ...  Esta tarde Bellido asumió al cargo en la Pampa...\n",
              "Pro_text      pedro castillo anunciar gobernar palacio gober...  ...  tardar bellido asumir cargar pampa quinua ayac...\n",
              "Keywords              [castillo, pedro, página, metro, segundo]  ...           [segundo, metro, litro, bellido, partir]\n",
              "Texto_puntos  pedro castillo anuncia que no gobernará desde ...  ...  esta tarde bellido asumió al cargo en la pampa...\n",
              "\n",
              "[8 rows x 10 columns]"
            ]
          },
          "metadata": {
            "tags": []
          },
          "execution_count": 18
        }
      ]
    },
    {
      "cell_type": "code",
      "metadata": {
        "colab": {
          "base_uri": "https://localhost:8080/"
        },
        "id": "S4z-iTUtATkb",
        "outputId": "4d0dff9f-0adf-43eb-eaaa-15c07ff0978e"
      },
      "source": [
        "df_raw.info()"
      ],
      "execution_count": null,
      "outputs": [
        {
          "output_type": "stream",
          "text": [
            "<class 'pandas.core.frame.DataFrame'>\n",
            "RangeIndex: 631 entries, 0 to 630\n",
            "Data columns (total 8 columns):\n",
            " #   Column        Non-Null Count  Dtype \n",
            "---  ------        --------------  ----- \n",
            " 0   Unnamed: 0    631 non-null    int64 \n",
            " 1   site          631 non-null    object\n",
            " 2   publish_date  631 non-null    object\n",
            " 3   title         631 non-null    object\n",
            " 4   content       631 non-null    object\n",
            " 5   Pro_text      631 non-null    object\n",
            " 6   Keywords      631 non-null    object\n",
            " 7   Texto_puntos  631 non-null    object\n",
            "dtypes: int64(1), object(7)\n",
            "memory usage: 39.6+ KB\n"
          ],
          "name": "stdout"
        }
      ]
    },
    {
      "cell_type": "code",
      "metadata": {
        "colab": {
          "base_uri": "https://localhost:8080/",
          "height": 449
        },
        "id": "t_E0ZyjkArKg",
        "outputId": "563aa691-f8f6-46bd-8708-3f3801878796"
      },
      "source": [
        "kw_top5 = df_raw['Keywords'].values\n",
        "kws_all = []\n",
        "for kw_i in kw_top5:\n",
        "    kws_all.extend(kw_i)\n",
        "\n",
        "from collections import Counter\n",
        "word_could_dict=Counter(kws_all)\n",
        "\n",
        "wordcloud = WordCloud(background_color='white', width = 1000, height = 500, random_state=123).generate_from_frequencies(word_could_dict)\n",
        "\n",
        "plt.figure(figsize=(15,8))\n",
        "plt.imshow(wordcloud)\n",
        "plt.axis(\"off\")\n",
        "plt.show()\n",
        "\n",
        "plt.savefig('./WordCloud_v1.png')\n",
        "plt.close()"
      ],
      "execution_count": null,
      "outputs": [
        {
          "output_type": "display_data",
          "data": {
            "image/png": "[encoded data removed]",
            "text/plain": [
              "<Figure size 1080x576 with 1 Axes>"
            ]
          },
          "metadata": {
            "tags": [],
            "needs_background": "light"
          }
        }
      ]
    },
    {
      "cell_type": "code",
      "metadata": {
        "id": "c4y7adD_xAMV"
      },
      "source": [
        "def GraficaHistogramTokens(token_list, top_len=30, titulo=''):\n",
        "    \n",
        "    word_could_dict=Counter(token_list)\n",
        "    labels, values = zip(*word_could_dict.items())\n",
        "\n",
        "    # sort your values in descending order\n",
        "    indSort = np.argsort(values)[::-1]\n",
        "\n",
        "    # rearrange your data\n",
        "    labels = np.array(labels)[indSort][:top_len]\n",
        "    values = np.array(values)[indSort][:top_len]\n",
        "\n",
        "    indexes = np.arange(len(labels))[:top_len]\n",
        "\n",
        "    bar_width = 1\n",
        "\n",
        "\n",
        "    fig, axs = plt.subplots(figsize=(22,8))\n",
        "\n",
        "    axs.bar(indexes,values)\n",
        "    #plt.bar(indexes, values)\n",
        "\n",
        "    # add labels\n",
        "    axs.set_xticks(indexes)\n",
        "    axs.set_xticklabels(labels, rotation='vertical')\n",
        "    axs.set_title(titulo)\n",
        "    plt.show()"
      ],
      "execution_count": null,
      "outputs": []
    },
    {
      "cell_type": "code",
      "metadata": {
        "colab": {
          "base_uri": "https://localhost:8080/",
          "height": 467
        },
        "id": "gZHiBd68F8_-",
        "outputId": "2dffec03-9715-4aef-ad93-5e69233fa2f2"
      },
      "source": [
        "GraficaHistogramTokens(kws_all, titulo='Frecuencia de keywords')"
      ],
      "execution_count": null,
      "outputs": [
        {
          "output_type": "display_data",
          "data": {
            "image/png": "[encoded data removed]",
            "text/plain": [
              "<Figure size 1584x576 with 1 Axes>"
            ]
          },
          "metadata": {
            "tags": [],
            "needs_background": "light"
          }
        }
      ]
    },
    {
      "cell_type": "code",
      "metadata": {
        "id": "Y3dGzMwtsAgh"
      },
      "source": [
        "#total_content = ' '.join(df_raw['Pro_text'].values)\n",
        "#total_doc = nlp(total_content)\n",
        "\n",
        "#print(f'Cantidad total de palabras: {len(total_doc)}')"
      ],
      "execution_count": null,
      "outputs": []
    },
    {
      "cell_type": "code",
      "metadata": {
        "id": "aEQN0m7PuFux"
      },
      "source": [
        "#tokens = [x.text for x in total_doc]\n",
        "#tokens[:5]"
      ],
      "execution_count": null,
      "outputs": []
    },
    {
      "cell_type": "code",
      "metadata": {
        "id": "AZcLIxjvuxxY"
      },
      "source": [
        "#uniq_tokens = []\n",
        "#for tk_i  in tokens:\n",
        "#    if not(tk_i in uniq_tokens):\n",
        "#        uniq_tokens.append(tk_i)\n",
        "#print(f'Tanaño de vocabulario: {len(uniq_tokens)}')"
      ],
      "execution_count": null,
      "outputs": []
    },
    {
      "cell_type": "code",
      "metadata": {
        "id": "1-cm58XztXbQ"
      },
      "source": [
        "#freq = FreqDist(tokens)\n",
        "#np.array(freq.most_common(10))"
      ],
      "execution_count": null,
      "outputs": []
    },
    {
      "cell_type": "code",
      "metadata": {
        "id": "Iby0iUWrwSuB"
      },
      "source": [
        "#print(f'Cantidad total de palabras: {len(total_doc)}')\n",
        "#print(f'Tanaño de vocabulario: {len(uniq_tokens)}')\n",
        "#GraficaHistogramTokens(tokens, top_len=30, titulo='Frecuencia para todo el corpus')\n"
      ],
      "execution_count": null,
      "outputs": []
    },
    {
      "cell_type": "markdown",
      "metadata": {
        "id": "gEQ3GMZUgevj"
      },
      "source": [
        "## Sentiment analysis spanish\n",
        "Usa NaiveBayes para la estimación del sentimiento de oraciones, link: https://github.com/sentiment-analysis-spanish/sentiment-spanish"
      ]
    },
    {
      "cell_type": "code",
      "metadata": {
        "colab": {
          "base_uri": "https://localhost:8080/"
        },
        "id": "DyTAwSnzgdIL",
        "outputId": "a0e29692-b65e-4512-8cfe-213746475556"
      },
      "source": [
        "!pip install sentiment_analysis_spanish"
      ],
      "execution_count": null,
      "outputs": [
        {
          "output_type": "stream",
          "text": [
            "Collecting sentiment_analysis_spanish\n",
            "  Downloading sentiment_analysis_spanish-0.0.25-py3-none-any.whl (30.0 MB)\n",
            "\u001b[K     |████████████████████████████████| 30.0 MB 68 kB/s \n",
            "\u001b[?25hInstalling collected packages: sentiment-analysis-spanish\n",
            "Successfully installed sentiment-analysis-spanish-0.0.25\n"
          ],
          "name": "stdout"
        }
      ]
    },
    {
      "cell_type": "code",
      "metadata": {
        "colab": {
          "base_uri": "https://localhost:8080/"
        },
        "id": "eYLTl9Mogmhm",
        "outputId": "bb107059-a7d2-4e4c-ea5d-121aa8ecce2f"
      },
      "source": [
        "from sentiment_analysis_spanish import sentiment_analysis\n",
        "sentiment = sentiment_analysis.SentimentAnalysisSpanish()\n",
        "print(sentiment.sentiment('Esta es una mala prueba'))"
      ],
      "execution_count": null,
      "outputs": [
        {
          "output_type": "stream",
          "text": [
            "0.00021489499084814375\n"
          ],
          "name": "stdout"
        },
        {
          "output_type": "stream",
          "text": [
            "/usr/local/lib/python3.7/dist-packages/sklearn/base.py:318: UserWarning: Trying to unpickle estimator CountVectorizer from version 0.23.2 when using version 0.22.2.post1. This might lead to breaking code or invalid results. Use at your own risk.\n",
            "  UserWarning)\n",
            "/usr/local/lib/python3.7/dist-packages/sklearn/base.py:318: UserWarning: Trying to unpickle estimator MultinomialNB from version 0.23.2 when using version 0.22.2.post1. This might lead to breaking code or invalid results. Use at your own risk.\n",
            "  UserWarning)\n"
          ],
          "name": "stderr"
        }
      ]
    },
    {
      "cell_type": "code",
      "metadata": {
        "id": "-3SXT27IgqQg",
        "colab": {
          "base_uri": "https://localhost:8080/"
        },
        "outputId": "0bc9c001-e829-415a-ca4f-506ccce8ee6b"
      },
      "source": [
        "print(sentiment.sentiment('Esta es una buena prueba'))"
      ],
      "execution_count": null,
      "outputs": [
        {
          "output_type": "stream",
          "text": [
            "0.4830808209941375\n"
          ],
          "name": "stdout"
        }
      ]
    },
    {
      "cell_type": "code",
      "metadata": {
        "id": "biUnA_-yDoVo"
      },
      "source": [
        "def prom_sent (texto):\n",
        "  sentences = sent_tokenize(texto)\n",
        "  sentences\n",
        "  sentences_prep = [sentiment.sentiment(sent) for sent in sentences]\n",
        "  sentences_prep\n",
        "  sent_prom = sum(sentences_prep)/ len(sentences_prep)\n",
        "  return sent_prom"
      ],
      "execution_count": null,
      "outputs": []
    },
    {
      "cell_type": "code",
      "metadata": {
        "id": "sQd3CV2DgunS",
        "colab": {
          "base_uri": "https://localhost:8080/",
          "height": 962
        },
        "outputId": "2f203330-9783-4b58-c5a9-ea7a9f0ddc37"
      },
      "source": [
        "\n",
        "df_raw['score_pre'] = df_raw['Texto_puntos'].apply(prom_sent)\n",
        "\n",
        "mean_sc = df_raw['score_pre'].mean()\n",
        "std_sc = df_raw['score_pre'].std()\n",
        "\n",
        "df_raw['score'] = (df_raw['score_pre']-mean_sc)/std_sc\n",
        "df_raw.head(10)"
      ],
      "execution_count": null,
      "outputs": [
        {
          "output_type": "execute_result",
          "data": {
            "text/html": [
              "<div>\n",
              "<style scoped>\n",
              "    .dataframe tbody tr th:only-of-type {\n",
              "        vertical-align: middle;\n",
              "    }\n",
              "\n",
              "    .dataframe tbody tr th {\n",
              "        vertical-align: top;\n",
              "    }\n",
              "\n",
              "    .dataframe thead th {\n",
              "        text-align: right;\n",
              "    }\n",
              "</style>\n",
              "<table border=\"1\" class=\"dataframe\">\n",
              "  <thead>\n",
              "    <tr style=\"text-align: right;\">\n",
              "      <th></th>\n",
              "      <th>Unnamed: 0</th>\n",
              "      <th>site</th>\n",
              "      <th>publish_date</th>\n",
              "      <th>title</th>\n",
              "      <th>content</th>\n",
              "      <th>Pro_text</th>\n",
              "      <th>Keywords</th>\n",
              "      <th>Texto_puntos</th>\n",
              "      <th>score_pre</th>\n",
              "      <th>score</th>\n",
              "    </tr>\n",
              "  </thead>\n",
              "  <tbody>\n",
              "    <tr>\n",
              "      <th>0</th>\n",
              "      <td>0</td>\n",
              "      <td>diariocorreo</td>\n",
              "      <td>2021-07-29 23:55:16.656000+00:00</td>\n",
              "      <td>Pedro Castillo a delincuentes extranjeros: “Te...</td>\n",
              "      <td>Pedro Castillo anuncia que no gobernará desde ...</td>\n",
              "      <td>pedro castillo anunciar gobernar palacio gober...</td>\n",
              "      <td>[castillo, pedro, página, metro, segundo]</td>\n",
              "      <td>pedro castillo anuncia que no gobernará desde ...</td>\n",
              "      <td>0.195921</td>\n",
              "      <td>0.340521</td>\n",
              "    </tr>\n",
              "    <tr>\n",
              "      <th>1</th>\n",
              "      <td>1</td>\n",
              "      <td>diariocorreo</td>\n",
              "      <td>2021-07-29 23:48:20.264000+00:00</td>\n",
              "      <td>María del Carmen Alva sobre Sagasti: “Le invit...</td>\n",
              "      <td>La presidenta del Congreso, María del Carmen A...</td>\n",
              "      <td>presidente congreso maría carmen alva responde...</td>\n",
              "      <td>[banda, congreso, presidente, sagasti, alva]</td>\n",
              "      <td>la presidenta del congreso , maría del carmen ...</td>\n",
              "      <td>0.224760</td>\n",
              "      <td>0.708929</td>\n",
              "    </tr>\n",
              "    <tr>\n",
              "      <th>2</th>\n",
              "      <td>2</td>\n",
              "      <td>diariocorreo</td>\n",
              "      <td>2021-07-29 23:27:32.719000+00:00</td>\n",
              "      <td>Keiko Fujimori a Pedro Castillo: “Seremos un m...</td>\n",
              "      <td>“A 200 años de que lográramos una República li...</td>\n",
              "      <td>año lograr república librar hoy deber ratifica...</td>\n",
              "      <td>[fujimori, keiko, pedro, castillo, nuevo]</td>\n",
              "      <td>años de que lográramos una república libre , h...</td>\n",
              "      <td>0.066642</td>\n",
              "      <td>-1.311019</td>\n",
              "    </tr>\n",
              "    <tr>\n",
              "      <th>3</th>\n",
              "      <td>3</td>\n",
              "      <td>diariocorreo</td>\n",
              "      <td>2021-07-29 23:27:10.005000+00:00</td>\n",
              "      <td>Francisco Sagasti fue denunciado por genocidio...</td>\n",
              "      <td>El presidente Francisco Sagasti fue denunciado...</td>\n",
              "      <td>presidente francisco sagasti denunciar excongr...</td>\n",
              "      <td>[sagasti, francisco, denunciar, ministro, metro]</td>\n",
              "      <td>el presidente francisco sagasti fue denunciado...</td>\n",
              "      <td>0.108913</td>\n",
              "      <td>-0.771007</td>\n",
              "    </tr>\n",
              "    <tr>\n",
              "      <th>4</th>\n",
              "      <td>4</td>\n",
              "      <td>diariocorreo</td>\n",
              "      <td>2021-07-29 23:05:02.514000+00:00</td>\n",
              "      <td>Julio Arbizu tilda de “primer grave error polí...</td>\n",
              "      <td>Exprocurador que integró el equipo de transfer...</td>\n",
              "      <td>exprocurador integrar equipar transferencia mi...</td>\n",
              "      <td>[guido, bellido, gobernar, espantar, consenso]</td>\n",
              "      <td>exprocurador que integró el equipo de transfer...</td>\n",
              "      <td>0.109091</td>\n",
              "      <td>-0.768743</td>\n",
              "    </tr>\n",
              "    <tr>\n",
              "      <th>5</th>\n",
              "      <td>5</td>\n",
              "      <td>diariocorreo</td>\n",
              "      <td>2021-07-29 21:03:14.998000+00:00</td>\n",
              "      <td>Guido Bellido, el nuevo presidente del Consejo...</td>\n",
              "      <td>El nombrado titular de la PCM increpó en el de...</td>\n",
              "      <td>nombrar titular página metro increpar detrás c...</td>\n",
              "      <td>[página, sendero, luminoso, edith, lago]</td>\n",
              "      <td>el nombrado titular de la increpó en el detrás...</td>\n",
              "      <td>0.082416</td>\n",
              "      <td>-1.109505</td>\n",
              "    </tr>\n",
              "    <tr>\n",
              "      <th>6</th>\n",
              "      <td>6</td>\n",
              "      <td>diariocorreo</td>\n",
              "      <td>2021-07-29 20:52:33.355000+00:00</td>\n",
              "      <td>Congresistas opinaron sobre designación de Gui...</td>\n",
              "      <td>Los legisladores de Juntos por el Perú, Avanza...</td>\n",
              "      <td>legislador junto perú avanzar país forzar popu...</td>\n",
              "      <td>[bellido, página, guido, país, popular]</td>\n",
              "      <td>los legisladores de juntos por el perú , avanz...</td>\n",
              "      <td>0.052929</td>\n",
              "      <td>-1.486208</td>\n",
              "    </tr>\n",
              "    <tr>\n",
              "      <th>7</th>\n",
              "      <td>7</td>\n",
              "      <td>diariocorreo</td>\n",
              "      <td>2021-07-29 20:11:01.618000+00:00</td>\n",
              "      <td>Juramentación de ministros será en el Gran Tea...</td>\n",
              "      <td>La ceremonia programada para el viernes 30 de ...</td>\n",
              "      <td>ceremonia programar viernes julio realizar hoy...</td>\n",
              "      <td>[metro, julio, página, ceremonia, gran]</td>\n",
              "      <td>la ceremonia programada para el viernes de jul...</td>\n",
              "      <td>0.239125</td>\n",
              "      <td>0.892448</td>\n",
              "    </tr>\n",
              "    <tr>\n",
              "      <th>8</th>\n",
              "      <td>8</td>\n",
              "      <td>diariocorreo</td>\n",
              "      <td>2021-07-29 19:40:18.175000+00:00</td>\n",
              "      <td>Pedro Castillo: “Seré el primero en sancionar ...</td>\n",
              "      <td>Presidente convocó a la población a estar vigi...</td>\n",
              "      <td>presidente convocar población vigilante autori...</td>\n",
              "      <td>[trabajar, perú, convocar, autoridad, país]</td>\n",
              "      <td>presidente convocó la población estar vigilant...</td>\n",
              "      <td>0.074946</td>\n",
              "      <td>-1.204935</td>\n",
              "    </tr>\n",
              "    <tr>\n",
              "      <th>9</th>\n",
              "      <td>9</td>\n",
              "      <td>diariocorreo</td>\n",
              "      <td>2021-07-29 18:48:45.293000+00:00</td>\n",
              "      <td>EN VIVO | Guido Bellido es el presidente del C...</td>\n",
              "      <td>Esta tarde Bellido asumió al cargo en la Pampa...</td>\n",
              "      <td>tardar bellido asumir cargar pampa quinua ayac...</td>\n",
              "      <td>[segundo, metro, litro, bellido, partir]</td>\n",
              "      <td>esta tarde bellido asumió al cargo en la pampa...</td>\n",
              "      <td>0.081184</td>\n",
              "      <td>-1.125245</td>\n",
              "    </tr>\n",
              "  </tbody>\n",
              "</table>\n",
              "</div>"
            ],
            "text/plain": [
              "   Unnamed: 0          site  ... score_pre     score\n",
              "0           0  diariocorreo  ...  0.195921  0.340521\n",
              "1           1  diariocorreo  ...  0.224760  0.708929\n",
              "2           2  diariocorreo  ...  0.066642 -1.311019\n",
              "3           3  diariocorreo  ...  0.108913 -0.771007\n",
              "4           4  diariocorreo  ...  0.109091 -0.768743\n",
              "5           5  diariocorreo  ...  0.082416 -1.109505\n",
              "6           6  diariocorreo  ...  0.052929 -1.486208\n",
              "7           7  diariocorreo  ...  0.239125  0.892448\n",
              "8           8  diariocorreo  ...  0.074946 -1.204935\n",
              "9           9  diariocorreo  ...  0.081184 -1.125245\n",
              "\n",
              "[10 rows x 10 columns]"
            ]
          },
          "metadata": {
            "tags": []
          },
          "execution_count": 33
        }
      ]
    },
    {
      "cell_type": "code",
      "metadata": {
        "id": "Pwm1oMlBhPqO",
        "colab": {
          "base_uri": "https://localhost:8080/",
          "height": 295
        },
        "outputId": "401c1fdc-eddf-431d-e98c-07eebee8d257"
      },
      "source": [
        "df_raw[['score_pre', 'score']].describe()"
      ],
      "execution_count": null,
      "outputs": [
        {
          "output_type": "execute_result",
          "data": {
            "text/html": [
              "<div>\n",
              "<style scoped>\n",
              "    .dataframe tbody tr th:only-of-type {\n",
              "        vertical-align: middle;\n",
              "    }\n",
              "\n",
              "    .dataframe tbody tr th {\n",
              "        vertical-align: top;\n",
              "    }\n",
              "\n",
              "    .dataframe thead th {\n",
              "        text-align: right;\n",
              "    }\n",
              "</style>\n",
              "<table border=\"1\" class=\"dataframe\">\n",
              "  <thead>\n",
              "    <tr style=\"text-align: right;\">\n",
              "      <th></th>\n",
              "      <th>score_pre</th>\n",
              "      <th>score</th>\n",
              "    </tr>\n",
              "  </thead>\n",
              "  <tbody>\n",
              "    <tr>\n",
              "      <th>count</th>\n",
              "      <td>631.000000</td>\n",
              "      <td>6.310000e+02</td>\n",
              "    </tr>\n",
              "    <tr>\n",
              "      <th>mean</th>\n",
              "      <td>0.169266</td>\n",
              "      <td>1.017235e-15</td>\n",
              "    </tr>\n",
              "    <tr>\n",
              "      <th>std</th>\n",
              "      <td>0.078278</td>\n",
              "      <td>1.000000e+00</td>\n",
              "    </tr>\n",
              "    <tr>\n",
              "      <th>min</th>\n",
              "      <td>0.000262</td>\n",
              "      <td>-2.159031e+00</td>\n",
              "    </tr>\n",
              "    <tr>\n",
              "      <th>25%</th>\n",
              "      <td>0.113068</td>\n",
              "      <td>-7.179316e-01</td>\n",
              "    </tr>\n",
              "    <tr>\n",
              "      <th>50%</th>\n",
              "      <td>0.161142</td>\n",
              "      <td>-1.037816e-01</td>\n",
              "    </tr>\n",
              "    <tr>\n",
              "      <th>75%</th>\n",
              "      <td>0.212292</td>\n",
              "      <td>5.496524e-01</td>\n",
              "    </tr>\n",
              "    <tr>\n",
              "      <th>max</th>\n",
              "      <td>0.475127</td>\n",
              "      <td>3.907373e+00</td>\n",
              "    </tr>\n",
              "  </tbody>\n",
              "</table>\n",
              "</div>"
            ],
            "text/plain": [
              "        score_pre         score\n",
              "count  631.000000  6.310000e+02\n",
              "mean     0.169266  1.017235e-15\n",
              "std      0.078278  1.000000e+00\n",
              "min      0.000262 -2.159031e+00\n",
              "25%      0.113068 -7.179316e-01\n",
              "50%      0.161142 -1.037816e-01\n",
              "75%      0.212292  5.496524e-01\n",
              "max      0.475127  3.907373e+00"
            ]
          },
          "metadata": {
            "tags": []
          },
          "execution_count": 34
        }
      ]
    },
    {
      "cell_type": "code",
      "metadata": {
        "id": "FCFyc4n-g2Gs",
        "colab": {
          "base_uri": "https://localhost:8080/",
          "height": 282
        },
        "outputId": "0ec8aa07-4c86-4213-d355-ada0032d985a"
      },
      "source": [
        "df_raw['score'].plot.kde()"
      ],
      "execution_count": null,
      "outputs": [
        {
          "output_type": "execute_result",
          "data": {
            "text/plain": [
              "<matplotlib.axes._subplots.AxesSubplot at 0x7fa425013e10>"
            ]
          },
          "metadata": {
            "tags": []
          },
          "execution_count": 35
        },
        {
          "output_type": "display_data",
          "data": {
            "image/png": "[encoded data removed]",
            "text/plain": [
              "<Figure size 432x288 with 1 Axes>"
            ]
          },
          "metadata": {
            "tags": [],
            "needs_background": "light"
          }
        }
      ]
    },
    {
      "cell_type": "code",
      "metadata": {
        "id": "O-1gmU5BmurG"
      },
      "source": [
        "import seaborn as sns"
      ],
      "execution_count": null,
      "outputs": []
    },
    {
      "cell_type": "code",
      "metadata": {
        "id": "vdtmETVPmyKO",
        "colab": {
          "base_uri": "https://localhost:8080/",
          "height": 279
        },
        "outputId": "6c1cdddd-c1ad-4e5c-b7c0-3a1e3254424c"
      },
      "source": [
        "ax = sns.violinplot(x=\"score\", data=df_raw)\n",
        "ax = sns.swarmplot(x=\"score\", color='silver',data=df_raw)"
      ],
      "execution_count": null,
      "outputs": [
        {
          "output_type": "display_data",
          "data": {
            "image/png": "[encoded data removed]",
            "text/plain": [
              "<Figure size 432x288 with 1 Axes>"
            ]
          },
          "metadata": {
            "tags": [],
            "needs_background": "light"
          }
        }
      ]
    },
    {
      "cell_type": "code",
      "metadata": {
        "colab": {
          "base_uri": "https://localhost:8080/",
          "height": 400
        },
        "id": "ZncOy8b6vyUC",
        "outputId": "644f51a9-9adc-4e14-f83f-167ec78d0b02"
      },
      "source": [
        "down_lim = df_raw['score'].quantile(.25)\n",
        "up_lim = df_raw['score'].quantile(.75)\n",
        "\n",
        "df_raw['Sentimiento'] = df_raw['score'].apply(lambda x: 'positivo' if x>=.5 else 'negativo' if x<=-.5 else 'neutro')\n",
        "\n",
        "ax = sns.violinplot(x=\"score\", y='site', color='whitesmoke', data=df_raw)\n",
        "ax = sns.swarmplot(x=\"score\", y='site', hue='Sentimiento', data=df_raw)"
      ],
      "execution_count": null,
      "outputs": [
        {
          "output_type": "stream",
          "text": [
            "/usr/local/lib/python3.7/dist-packages/seaborn/categorical.py:1296: UserWarning: 19.0% of the points cannot be placed; you may want to decrease the size of the markers or use stripplot.\n",
            "  warnings.warn(msg, UserWarning)\n",
            "/usr/local/lib/python3.7/dist-packages/seaborn/categorical.py:1296: UserWarning: 13.7% of the points cannot be placed; you may want to decrease the size of the markers or use stripplot.\n",
            "  warnings.warn(msg, UserWarning)\n",
            "/usr/local/lib/python3.7/dist-packages/seaborn/categorical.py:1296: UserWarning: 23.9% of the points cannot be placed; you may want to decrease the size of the markers or use stripplot.\n",
            "  warnings.warn(msg, UserWarning)\n"
          ],
          "name": "stderr"
        },
        {
          "output_type": "display_data",
          "data": {
            "image/png": "[encoded data removed]",
            "text/plain": [
              "<Figure size 432x288 with 1 Axes>"
            ]
          },
          "metadata": {
            "tags": [],
            "needs_background": "light"
          }
        }
      ]
    },
    {
      "cell_type": "code",
      "metadata": {
        "colab": {
          "base_uri": "https://localhost:8080/"
        },
        "id": "SmOHcR8vxSXi",
        "outputId": "387764f2-4e3c-4a1d-b338-4242b6ed0a2b"
      },
      "source": [
        "df_raw['Sentimiento'].value_counts()"
      ],
      "execution_count": null,
      "outputs": [
        {
          "output_type": "execute_result",
          "data": {
            "text/plain": [
              "neutro      246\n",
              "negativo    215\n",
              "positivo    170\n",
              "Name: Sentimiento, dtype: int64"
            ]
          },
          "metadata": {
            "tags": []
          },
          "execution_count": 39
        }
      ]
    },
    {
      "cell_type": "code",
      "metadata": {
        "colab": {
          "base_uri": "https://localhost:8080/",
          "height": 542
        },
        "id": "FczeLi6xXsfn",
        "outputId": "0ab1b562-4a0e-4ce1-b0e6-22a143e7d902"
      },
      "source": [
        "df_gr = df_raw[['site', 'Sentimiento', 'score']].groupby(['site', 'Sentimiento'], as_index=True).count()\n",
        "\n",
        "df_gr['% del diario'] = df_gr['score']/df_raw.groupby('site')['score'].count()*100\n",
        "df_gr['% del Total'] = df_gr['score']/df_raw['score'].count()*100\n",
        "df_gr.rename(columns={'score':' # Muestras'}, inplace=True)\n",
        "\n",
        "df_gr"
      ],
      "execution_count": null,
      "outputs": [
        {
          "output_type": "execute_result",
          "data": {
            "text/html": [
              "<div>\n",
              "<style scoped>\n",
              "    .dataframe tbody tr th:only-of-type {\n",
              "        vertical-align: middle;\n",
              "    }\n",
              "\n",
              "    .dataframe tbody tr th {\n",
              "        vertical-align: top;\n",
              "    }\n",
              "\n",
              "    .dataframe thead th {\n",
              "        text-align: right;\n",
              "    }\n",
              "</style>\n",
              "<table border=\"1\" class=\"dataframe\">\n",
              "  <thead>\n",
              "    <tr style=\"text-align: right;\">\n",
              "      <th></th>\n",
              "      <th></th>\n",
              "      <th># Muestras</th>\n",
              "      <th>% del diario</th>\n",
              "      <th>% del Total</th>\n",
              "    </tr>\n",
              "    <tr>\n",
              "      <th>site</th>\n",
              "      <th>Sentimiento</th>\n",
              "      <th></th>\n",
              "      <th></th>\n",
              "      <th></th>\n",
              "    </tr>\n",
              "  </thead>\n",
              "  <tbody>\n",
              "    <tr>\n",
              "      <th rowspan=\"3\" valign=\"top\">diariocorreo</th>\n",
              "      <th>negativo</th>\n",
              "      <td>43</td>\n",
              "      <td>37.391304</td>\n",
              "      <td>6.814580</td>\n",
              "    </tr>\n",
              "    <tr>\n",
              "      <th>neutro</th>\n",
              "      <td>39</td>\n",
              "      <td>33.913043</td>\n",
              "      <td>6.180666</td>\n",
              "    </tr>\n",
              "    <tr>\n",
              "      <th>positivo</th>\n",
              "      <td>33</td>\n",
              "      <td>28.695652</td>\n",
              "      <td>5.229794</td>\n",
              "    </tr>\n",
              "    <tr>\n",
              "      <th rowspan=\"3\" valign=\"top\">elcomercio</th>\n",
              "      <th>negativo</th>\n",
              "      <td>39</td>\n",
              "      <td>27.464789</td>\n",
              "      <td>6.180666</td>\n",
              "    </tr>\n",
              "    <tr>\n",
              "      <th>neutro</th>\n",
              "      <td>63</td>\n",
              "      <td>44.366197</td>\n",
              "      <td>9.984152</td>\n",
              "    </tr>\n",
              "    <tr>\n",
              "      <th>positivo</th>\n",
              "      <td>40</td>\n",
              "      <td>28.169014</td>\n",
              "      <td>6.339144</td>\n",
              "    </tr>\n",
              "    <tr>\n",
              "      <th rowspan=\"3\" valign=\"top\">gestion</th>\n",
              "      <th>negativo</th>\n",
              "      <td>25</td>\n",
              "      <td>19.083969</td>\n",
              "      <td>3.961965</td>\n",
              "    </tr>\n",
              "    <tr>\n",
              "      <th>neutro</th>\n",
              "      <td>56</td>\n",
              "      <td>42.748092</td>\n",
              "      <td>8.874802</td>\n",
              "    </tr>\n",
              "    <tr>\n",
              "      <th>positivo</th>\n",
              "      <td>50</td>\n",
              "      <td>38.167939</td>\n",
              "      <td>7.923930</td>\n",
              "    </tr>\n",
              "    <tr>\n",
              "      <th rowspan=\"3\" valign=\"top\">larepublica</th>\n",
              "      <th>negativo</th>\n",
              "      <td>87</td>\n",
              "      <td>54.716981</td>\n",
              "      <td>13.787639</td>\n",
              "    </tr>\n",
              "    <tr>\n",
              "      <th>neutro</th>\n",
              "      <td>48</td>\n",
              "      <td>30.188679</td>\n",
              "      <td>7.606973</td>\n",
              "    </tr>\n",
              "    <tr>\n",
              "      <th>positivo</th>\n",
              "      <td>24</td>\n",
              "      <td>15.094340</td>\n",
              "      <td>3.803487</td>\n",
              "    </tr>\n",
              "    <tr>\n",
              "      <th rowspan=\"3\" valign=\"top\">peru21</th>\n",
              "      <th>negativo</th>\n",
              "      <td>21</td>\n",
              "      <td>25.000000</td>\n",
              "      <td>3.328051</td>\n",
              "    </tr>\n",
              "    <tr>\n",
              "      <th>neutro</th>\n",
              "      <td>40</td>\n",
              "      <td>47.619048</td>\n",
              "      <td>6.339144</td>\n",
              "    </tr>\n",
              "    <tr>\n",
              "      <th>positivo</th>\n",
              "      <td>23</td>\n",
              "      <td>27.380952</td>\n",
              "      <td>3.645008</td>\n",
              "    </tr>\n",
              "  </tbody>\n",
              "</table>\n",
              "</div>"
            ],
            "text/plain": [
              "                           # Muestras  % del diario  % del Total\n",
              "site         Sentimiento                                        \n",
              "diariocorreo negativo              43     37.391304     6.814580\n",
              "             neutro                39     33.913043     6.180666\n",
              "             positivo              33     28.695652     5.229794\n",
              "elcomercio   negativo              39     27.464789     6.180666\n",
              "             neutro                63     44.366197     9.984152\n",
              "             positivo              40     28.169014     6.339144\n",
              "gestion      negativo              25     19.083969     3.961965\n",
              "             neutro                56     42.748092     8.874802\n",
              "             positivo              50     38.167939     7.923930\n",
              "larepublica  negativo              87     54.716981    13.787639\n",
              "             neutro                48     30.188679     7.606973\n",
              "             positivo              24     15.094340     3.803487\n",
              "peru21       negativo              21     25.000000     3.328051\n",
              "             neutro                40     47.619048     6.339144\n",
              "             positivo              23     27.380952     3.645008"
            ]
          },
          "metadata": {
            "tags": []
          },
          "execution_count": 66
        }
      ]
    },
    {
      "cell_type": "code",
      "metadata": {
        "colab": {
          "base_uri": "https://localhost:8080/",
          "height": 172
        },
        "id": "L5GThkc-cBUX",
        "outputId": "65cea05b-0b6e-4291-b450-ba7b9b04740d"
      },
      "source": [
        "df_gr = df_raw[['Sentimiento', 'score']].groupby(['Sentimiento'], as_index=True).count()\n",
        "\n",
        "#df_gr['% del diario'] = df_gr['score']/df_raw.groupby('site')['score'].count()*100\n",
        "df_gr['% del Total'] = df_gr['score']/df_raw['score'].count()*100\n",
        "df_gr.rename(columns={'score':' # Muestras'}, inplace=True)\n",
        "\n",
        "df_gr"
      ],
      "execution_count": null,
      "outputs": [
        {
          "output_type": "execute_result",
          "data": {
            "text/html": [
              "<div>\n",
              "<style scoped>\n",
              "    .dataframe tbody tr th:only-of-type {\n",
              "        vertical-align: middle;\n",
              "    }\n",
              "\n",
              "    .dataframe tbody tr th {\n",
              "        vertical-align: top;\n",
              "    }\n",
              "\n",
              "    .dataframe thead th {\n",
              "        text-align: right;\n",
              "    }\n",
              "</style>\n",
              "<table border=\"1\" class=\"dataframe\">\n",
              "  <thead>\n",
              "    <tr style=\"text-align: right;\">\n",
              "      <th></th>\n",
              "      <th># Muestras</th>\n",
              "      <th>% del Total</th>\n",
              "    </tr>\n",
              "    <tr>\n",
              "      <th>Sentimiento</th>\n",
              "      <th></th>\n",
              "      <th></th>\n",
              "    </tr>\n",
              "  </thead>\n",
              "  <tbody>\n",
              "    <tr>\n",
              "      <th>negativo</th>\n",
              "      <td>215</td>\n",
              "      <td>34.072900</td>\n",
              "    </tr>\n",
              "    <tr>\n",
              "      <th>neutro</th>\n",
              "      <td>246</td>\n",
              "      <td>38.985737</td>\n",
              "    </tr>\n",
              "    <tr>\n",
              "      <th>positivo</th>\n",
              "      <td>170</td>\n",
              "      <td>26.941363</td>\n",
              "    </tr>\n",
              "  </tbody>\n",
              "</table>\n",
              "</div>"
            ],
            "text/plain": [
              "              # Muestras  % del Total\n",
              "Sentimiento                          \n",
              "negativo             215    34.072900\n",
              "neutro               246    38.985737\n",
              "positivo             170    26.941363"
            ]
          },
          "metadata": {
            "tags": []
          },
          "execution_count": 67
        }
      ]
    },
    {
      "cell_type": "code",
      "metadata": {
        "id": "KrWsBajWYC-Z"
      },
      "source": [
        ""
      ],
      "execution_count": null,
      "outputs": []
    },
    {
      "cell_type": "markdown",
      "metadata": {
        "id": "Y8V80QYhUdD6"
      },
      "source": [
        "## Transformer & Lexicon-based approach"
      ]
    },
    {
      "cell_type": "code",
      "metadata": {
        "colab": {
          "base_uri": "https://localhost:8080/"
        },
        "id": "5iKl4IzlUjRL",
        "outputId": "385efccc-3f5c-4b23-c220-0932d8a97f5b"
      },
      "source": [
        "!pip install transformers"
      ],
      "execution_count": null,
      "outputs": [
        {
          "output_type": "stream",
          "text": [
            "Collecting transformers\n",
            "  Downloading transformers-4.9.1-py3-none-any.whl (2.6 MB)\n",
            "\u001b[K     |████████████████████████████████| 2.6 MB 7.6 MB/s \n",
            "\u001b[?25hRequirement already satisfied: filelock in /usr/local/lib/python3.7/dist-packages (from transformers) (3.0.12)\n",
            "Collecting tokenizers<0.11,>=0.10.1\n",
            "  Downloading tokenizers-0.10.3-cp37-cp37m-manylinux_2_5_x86_64.manylinux1_x86_64.manylinux_2_12_x86_64.manylinux2010_x86_64.whl (3.3 MB)\n",
            "\u001b[K     |████████████████████████████████| 3.3 MB 50.4 MB/s \n",
            "\u001b[?25hCollecting pyyaml>=5.1\n",
            "  Downloading PyYAML-5.4.1-cp37-cp37m-manylinux1_x86_64.whl (636 kB)\n",
            "\u001b[K     |████████████████████████████████| 636 kB 38.3 MB/s \n",
            "\u001b[?25hRequirement already satisfied: importlib-metadata in /usr/local/lib/python3.7/dist-packages (from transformers) (4.6.1)\n",
            "Requirement already satisfied: regex!=2019.12.17 in /usr/local/lib/python3.7/dist-packages (from transformers) (2019.12.20)\n",
            "Collecting huggingface-hub==0.0.12\n",
            "  Downloading huggingface_hub-0.0.12-py3-none-any.whl (37 kB)\n",
            "Collecting sacremoses\n",
            "  Downloading sacremoses-0.0.45-py3-none-any.whl (895 kB)\n",
            "\u001b[K     |████████████████████████████████| 895 kB 50.5 MB/s \n",
            "\u001b[?25hRequirement already satisfied: tqdm>=4.27 in /usr/local/lib/python3.7/dist-packages (from transformers) (4.41.1)\n",
            "Requirement already satisfied: requests in /usr/local/lib/python3.7/dist-packages (from transformers) (2.23.0)\n",
            "Requirement already satisfied: packaging in /usr/local/lib/python3.7/dist-packages (from transformers) (21.0)\n",
            "Requirement already satisfied: numpy>=1.17 in /usr/local/lib/python3.7/dist-packages (from transformers) (1.19.5)\n",
            "Requirement already satisfied: typing-extensions in /usr/local/lib/python3.7/dist-packages (from huggingface-hub==0.0.12->transformers) (3.7.4.3)\n",
            "Requirement already satisfied: pyparsing>=2.0.2 in /usr/local/lib/python3.7/dist-packages (from packaging->transformers) (2.4.7)\n",
            "Requirement already satisfied: zipp>=0.5 in /usr/local/lib/python3.7/dist-packages (from importlib-metadata->transformers) (3.5.0)\n",
            "Requirement already satisfied: idna<3,>=2.5 in /usr/local/lib/python3.7/dist-packages (from requests->transformers) (2.10)\n",
            "Requirement already satisfied: certifi>=2017.4.17 in /usr/local/lib/python3.7/dist-packages (from requests->transformers) (2021.5.30)\n",
            "Requirement already satisfied: chardet<4,>=3.0.2 in /usr/local/lib/python3.7/dist-packages (from requests->transformers) (3.0.4)\n",
            "Requirement already satisfied: urllib3!=1.25.0,!=1.25.1,<1.26,>=1.21.1 in /usr/local/lib/python3.7/dist-packages (from requests->transformers) (1.24.3)\n",
            "Requirement already satisfied: click in /usr/local/lib/python3.7/dist-packages (from sacremoses->transformers) (7.1.2)\n",
            "Requirement already satisfied: six in /usr/local/lib/python3.7/dist-packages (from sacremoses->transformers) (1.15.0)\n",
            "Requirement already satisfied: joblib in /usr/local/lib/python3.7/dist-packages (from sacremoses->transformers) (1.0.1)\n",
            "Installing collected packages: tokenizers, sacremoses, pyyaml, huggingface-hub, transformers\n",
            "  Attempting uninstall: pyyaml\n",
            "    Found existing installation: PyYAML 3.13\n",
            "    Uninstalling PyYAML-3.13:\n",
            "      Successfully uninstalled PyYAML-3.13\n",
            "Successfully installed huggingface-hub-0.0.12 pyyaml-5.4.1 sacremoses-0.0.45 tokenizers-0.10.3 transformers-4.9.1\n"
          ],
          "name": "stdout"
        }
      ]
    },
    {
      "cell_type": "code",
      "metadata": {
        "colab": {
          "base_uri": "https://localhost:8080/"
        },
        "id": "dRcfye0XUuN4",
        "outputId": "ba1f5dd0-8a8e-473a-8972-4354b86412f8"
      },
      "source": [
        "!pip install sentencepiece"
      ],
      "execution_count": null,
      "outputs": [
        {
          "output_type": "stream",
          "text": [
            "Collecting sentencepiece\n",
            "  Downloading sentencepiece-0.1.96-cp37-cp37m-manylinux_2_17_x86_64.manylinux2014_x86_64.whl (1.2 MB)\n",
            "\u001b[?25l\r\u001b[K     |▎                               | 10 kB 26.6 MB/s eta 0:00:01\r\u001b[K     |▌                               | 20 kB 29.9 MB/s eta 0:00:01\r\u001b[K     |▉                               | 30 kB 26.2 MB/s eta 0:00:01\r\u001b[K     |█                               | 40 kB 20.7 MB/s eta 0:00:01\r\u001b[K     |█▍                              | 51 kB 9.5 MB/s eta 0:00:01\r\u001b[K     |█▋                              | 61 kB 10.2 MB/s eta 0:00:01\r\u001b[K     |██                              | 71 kB 9.3 MB/s eta 0:00:01\r\u001b[K     |██▏                             | 81 kB 8.6 MB/s eta 0:00:01\r\u001b[K     |██▍                             | 92 kB 7.9 MB/s eta 0:00:01\r\u001b[K     |██▊                             | 102 kB 8.6 MB/s eta 0:00:01\r\u001b[K     |███                             | 112 kB 8.6 MB/s eta 0:00:01\r\u001b[K     |███▎                            | 122 kB 8.6 MB/s eta 0:00:01\r\u001b[K     |███▌                            | 133 kB 8.6 MB/s eta 0:00:01\r\u001b[K     |███▉                            | 143 kB 8.6 MB/s eta 0:00:01\r\u001b[K     |████                            | 153 kB 8.6 MB/s eta 0:00:01\r\u001b[K     |████▎                           | 163 kB 8.6 MB/s eta 0:00:01\r\u001b[K     |████▋                           | 174 kB 8.6 MB/s eta 0:00:01\r\u001b[K     |████▉                           | 184 kB 8.6 MB/s eta 0:00:01\r\u001b[K     |█████▏                          | 194 kB 8.6 MB/s eta 0:00:01\r\u001b[K     |█████▍                          | 204 kB 8.6 MB/s eta 0:00:01\r\u001b[K     |█████▊                          | 215 kB 8.6 MB/s eta 0:00:01\r\u001b[K     |██████                          | 225 kB 8.6 MB/s eta 0:00:01\r\u001b[K     |██████▏                         | 235 kB 8.6 MB/s eta 0:00:01\r\u001b[K     |██████▌                         | 245 kB 8.6 MB/s eta 0:00:01\r\u001b[K     |██████▊                         | 256 kB 8.6 MB/s eta 0:00:01\r\u001b[K     |███████                         | 266 kB 8.6 MB/s eta 0:00:01\r\u001b[K     |███████▎                        | 276 kB 8.6 MB/s eta 0:00:01\r\u001b[K     |███████▋                        | 286 kB 8.6 MB/s eta 0:00:01\r\u001b[K     |███████▉                        | 296 kB 8.6 MB/s eta 0:00:01\r\u001b[K     |████████                        | 307 kB 8.6 MB/s eta 0:00:01\r\u001b[K     |████████▍                       | 317 kB 8.6 MB/s eta 0:00:01\r\u001b[K     |████████▋                       | 327 kB 8.6 MB/s eta 0:00:01\r\u001b[K     |█████████                       | 337 kB 8.6 MB/s eta 0:00:01\r\u001b[K     |█████████▏                      | 348 kB 8.6 MB/s eta 0:00:01\r\u001b[K     |█████████▌                      | 358 kB 8.6 MB/s eta 0:00:01\r\u001b[K     |█████████▊                      | 368 kB 8.6 MB/s eta 0:00:01\r\u001b[K     |██████████                      | 378 kB 8.6 MB/s eta 0:00:01\r\u001b[K     |██████████▎                     | 389 kB 8.6 MB/s eta 0:00:01\r\u001b[K     |██████████▌                     | 399 kB 8.6 MB/s eta 0:00:01\r\u001b[K     |██████████▉                     | 409 kB 8.6 MB/s eta 0:00:01\r\u001b[K     |███████████                     | 419 kB 8.6 MB/s eta 0:00:01\r\u001b[K     |███████████▍                    | 430 kB 8.6 MB/s eta 0:00:01\r\u001b[K     |███████████▋                    | 440 kB 8.6 MB/s eta 0:00:01\r\u001b[K     |███████████▉                    | 450 kB 8.6 MB/s eta 0:00:01\r\u001b[K     |████████████▏                   | 460 kB 8.6 MB/s eta 0:00:01\r\u001b[K     |████████████▍                   | 471 kB 8.6 MB/s eta 0:00:01\r\u001b[K     |████████████▊                   | 481 kB 8.6 MB/s eta 0:00:01\r\u001b[K     |█████████████                   | 491 kB 8.6 MB/s eta 0:00:01\r\u001b[K     |█████████████▎                  | 501 kB 8.6 MB/s eta 0:00:01\r\u001b[K     |█████████████▌                  | 512 kB 8.6 MB/s eta 0:00:01\r\u001b[K     |█████████████▊                  | 522 kB 8.6 MB/s eta 0:00:01\r\u001b[K     |██████████████                  | 532 kB 8.6 MB/s eta 0:00:01\r\u001b[K     |██████████████▎                 | 542 kB 8.6 MB/s eta 0:00:01\r\u001b[K     |██████████████▋                 | 552 kB 8.6 MB/s eta 0:00:01\r\u001b[K     |██████████████▉                 | 563 kB 8.6 MB/s eta 0:00:01\r\u001b[K     |███████████████▏                | 573 kB 8.6 MB/s eta 0:00:01\r\u001b[K     |███████████████▍                | 583 kB 8.6 MB/s eta 0:00:01\r\u001b[K     |███████████████▋                | 593 kB 8.6 MB/s eta 0:00:01\r\u001b[K     |████████████████                | 604 kB 8.6 MB/s eta 0:00:01\r\u001b[K     |████████████████▏               | 614 kB 8.6 MB/s eta 0:00:01\r\u001b[K     |████████████████▌               | 624 kB 8.6 MB/s eta 0:00:01\r\u001b[K     |████████████████▊               | 634 kB 8.6 MB/s eta 0:00:01\r\u001b[K     |█████████████████               | 645 kB 8.6 MB/s eta 0:00:01\r\u001b[K     |█████████████████▎              | 655 kB 8.6 MB/s eta 0:00:01\r\u001b[K     |█████████████████▌              | 665 kB 8.6 MB/s eta 0:00:01\r\u001b[K     |█████████████████▉              | 675 kB 8.6 MB/s eta 0:00:01\r\u001b[K     |██████████████████              | 686 kB 8.6 MB/s eta 0:00:01\r\u001b[K     |██████████████████▍             | 696 kB 8.6 MB/s eta 0:00:01\r\u001b[K     |██████████████████▋             | 706 kB 8.6 MB/s eta 0:00:01\r\u001b[K     |███████████████████             | 716 kB 8.6 MB/s eta 0:00:01\r\u001b[K     |███████████████████▏            | 727 kB 8.6 MB/s eta 0:00:01\r\u001b[K     |███████████████████▍            | 737 kB 8.6 MB/s eta 0:00:01\r\u001b[K     |███████████████████▊            | 747 kB 8.6 MB/s eta 0:00:01\r\u001b[K     |████████████████████            | 757 kB 8.6 MB/s eta 0:00:01\r\u001b[K     |████████████████████▎           | 768 kB 8.6 MB/s eta 0:00:01\r\u001b[K     |████████████████████▌           | 778 kB 8.6 MB/s eta 0:00:01\r\u001b[K     |████████████████████▉           | 788 kB 8.6 MB/s eta 0:00:01\r\u001b[K     |█████████████████████           | 798 kB 8.6 MB/s eta 0:00:01\r\u001b[K     |█████████████████████▎          | 808 kB 8.6 MB/s eta 0:00:01\r\u001b[K     |█████████████████████▋          | 819 kB 8.6 MB/s eta 0:00:01\r\u001b[K     |█████████████████████▉          | 829 kB 8.6 MB/s eta 0:00:01\r\u001b[K     |██████████████████████▏         | 839 kB 8.6 MB/s eta 0:00:01\r\u001b[K     |██████████████████████▍         | 849 kB 8.6 MB/s eta 0:00:01\r\u001b[K     |██████████████████████▊         | 860 kB 8.6 MB/s eta 0:00:01\r\u001b[K     |███████████████████████         | 870 kB 8.6 MB/s eta 0:00:01\r\u001b[K     |███████████████████████▏        | 880 kB 8.6 MB/s eta 0:00:01\r\u001b[K     |███████████████████████▌        | 890 kB 8.6 MB/s eta 0:00:01\r\u001b[K     |███████████████████████▊        | 901 kB 8.6 MB/s eta 0:00:01\r\u001b[K     |████████████████████████        | 911 kB 8.6 MB/s eta 0:00:01\r\u001b[K     |████████████████████████▎       | 921 kB 8.6 MB/s eta 0:00:01\r\u001b[K     |████████████████████████▋       | 931 kB 8.6 MB/s eta 0:00:01\r\u001b[K     |████████████████████████▉       | 942 kB 8.6 MB/s eta 0:00:01\r\u001b[K     |█████████████████████████       | 952 kB 8.6 MB/s eta 0:00:01\r\u001b[K     |█████████████████████████▍      | 962 kB 8.6 MB/s eta 0:00:01\r\u001b[K     |█████████████████████████▋      | 972 kB 8.6 MB/s eta 0:00:01\r\u001b[K     |██████████████████████████      | 983 kB 8.6 MB/s eta 0:00:01\r\u001b[K     |██████████████████████████▏     | 993 kB 8.6 MB/s eta 0:00:01\r\u001b[K     |██████████████████████████▌     | 1.0 MB 8.6 MB/s eta 0:00:01\r\u001b[K     |██████████████████████████▊     | 1.0 MB 8.6 MB/s eta 0:00:01\r\u001b[K     |███████████████████████████     | 1.0 MB 8.6 MB/s eta 0:00:01\r\u001b[K     |███████████████████████████▎    | 1.0 MB 8.6 MB/s eta 0:00:01\r\u001b[K     |███████████████████████████▌    | 1.0 MB 8.6 MB/s eta 0:00:01\r\u001b[K     |███████████████████████████▉    | 1.1 MB 8.6 MB/s eta 0:00:01\r\u001b[K     |████████████████████████████    | 1.1 MB 8.6 MB/s eta 0:00:01\r\u001b[K     |████████████████████████████▍   | 1.1 MB 8.6 MB/s eta 0:00:01\r\u001b[K     |████████████████████████████▋   | 1.1 MB 8.6 MB/s eta 0:00:01\r\u001b[K     |████████████████████████████▉   | 1.1 MB 8.6 MB/s eta 0:00:01\r\u001b[K     |█████████████████████████████▏  | 1.1 MB 8.6 MB/s eta 0:00:01\r\u001b[K     |█████████████████████████████▍  | 1.1 MB 8.6 MB/s eta 0:00:01\r\u001b[K     |█████████████████████████████▊  | 1.1 MB 8.6 MB/s eta 0:00:01\r\u001b[K     |██████████████████████████████  | 1.1 MB 8.6 MB/s eta 0:00:01\r\u001b[K     |██████████████████████████████▎ | 1.1 MB 8.6 MB/s eta 0:00:01\r\u001b[K     |██████████████████████████████▌ | 1.2 MB 8.6 MB/s eta 0:00:01\r\u001b[K     |██████████████████████████████▊ | 1.2 MB 8.6 MB/s eta 0:00:01\r\u001b[K     |███████████████████████████████ | 1.2 MB 8.6 MB/s eta 0:00:01\r\u001b[K     |███████████████████████████████▎| 1.2 MB 8.6 MB/s eta 0:00:01\r\u001b[K     |███████████████████████████████▋| 1.2 MB 8.6 MB/s eta 0:00:01\r\u001b[K     |███████████████████████████████▉| 1.2 MB 8.6 MB/s eta 0:00:01\r\u001b[K     |████████████████████████████████| 1.2 MB 8.6 MB/s \n",
            "\u001b[?25hInstalling collected packages: sentencepiece\n",
            "Successfully installed sentencepiece-0.1.96\n"
          ],
          "name": "stdout"
        }
      ]
    },
    {
      "cell_type": "code",
      "metadata": {
        "id": "hB-66ptzUwgT",
        "colab": {
          "base_uri": "https://localhost:8080/",
          "height": 310,
          "referenced_widgets": [
            "91c0c635fef94faea5ca92c32849cfc3",
            "def8b2de1eb44e2eb44197daaeefe79e",
            "0e182dca0d9d4ba7bedad9ffb64d2ece",
            "de496f5d2b494d788cf519ee480a6666",
            "4c6d6031359948ab8db792c45150e622",
            "dd18c9dae48946499a28c761f2507f0a",
            "bf30a9fdb84546a1a245f148e7e60dfc",
            "d9a6d0108fdf417d86ca9918f46ce648",
            "cff5919fba884bbaa88c5f3a27410750",
            "e2155eb62d794d7ca739270e65a765ea",
            "fc0fe2abff6440cfbc39c0bd8fcc3dc7",
            "0de1a9f8efd648e1b64fc4b704ca7618",
            "974aea40ca974d079721a2e4bd30d394",
            "11a1046a0e8f4de68646102942d2fb0f",
            "cc5ac81f4bea48039ea9f2dc45e398f4",
            "91bb0083076745739399e695af0ef50e",
            "ba286ec1abb64864ab65980f496a67ac",
            "ff9dfb376bc9463e87bf28506ae8b128",
            "ec16cba7651d49fcb588a1b2b5465e68",
            "35817cb458c54c4882664c673cedfa4c",
            "f7e51c0d447843a98d1602e18aecc62b",
            "161dc29af3d24c29a5757267bfee98ff",
            "ad377a37aa85464b805ca646fd6dd3a1",
            "6d154611ef7340f58c9b66919da57a07",
            "e8dfc6d9a5a248b0b920b5719871011c",
            "61bd5b2d6de74590b15f04275e2f2bff",
            "cd35f083e5234dd1b243f32ff158fc16",
            "3a41359831c74789b1c433d4aeca7c54",
            "6ca7c97d920b464d8491f5d8c20e380a",
            "f177a3bc383b4a658423da753420843e",
            "01e2af54a2754a709294fe3c37858174",
            "934656666efb429896491e1be894c91b",
            "f1cb0dff79ed488fa0cc5d0cdb9b9c4b",
            "711c84513252446792ba02583a094abd",
            "6af033d7fba94734a10f0304279441e9",
            "9ba15145768743d8bbc6f2de0b50581b",
            "8caacd0da2b64fbf9b5a6e8ad80e9f19",
            "16a9f4c1bb8d46368d1fceeaefa10396",
            "1e4551ba22ba43669ca5e3f389d353d4",
            "abc79b4120124ab2bdc371bb506d63a3",
            "0dcc72bd47c04cf1b0c0a2d08db56283",
            "275edffd3edd4d9483061dbd340c1c49",
            "ce1dccf338d944878c4a1561d9e6c771",
            "e1c01095f7c24dc29b909a68b0fb4607",
            "0a44e1ccbf9d4d3e9180766bfec1c712",
            "e5288380cc154609a4717094ec96c5d2",
            "1d1b8ed877c3477fbf42cdf1eb985ee2",
            "d1a315535ecd4a9986e9bd7f898c91d6"
          ]
        },
        "outputId": "019a6624-5745-4dd3-84a1-3a1e393ef9de"
      },
      "source": [
        "from transformers import pipeline\n",
        "\n",
        "translator = pipeline('translation_en_to_es', model='Helsinki-NLP/opus-mt-en-es')"
      ],
      "execution_count": null,
      "outputs": [
        {
          "output_type": "display_data",
          "data": {
            "application/vnd.jupyter.widget-view+json": {
              "model_id": "91c0c635fef94faea5ca92c32849cfc3",
              "version_minor": 0,
              "version_major": 2
            },
            "text/plain": [
              "HBox(children=(FloatProgress(value=0.0, description='Downloading', max=1343.0, style=ProgressStyle(description…"
            ]
          },
          "metadata": {
            "tags": []
          }
        },
        {
          "output_type": "stream",
          "text": [
            "\n"
          ],
          "name": "stdout"
        },
        {
          "output_type": "display_data",
          "data": {
            "application/vnd.jupyter.widget-view+json": {
              "model_id": "cff5919fba884bbaa88c5f3a27410750",
              "version_minor": 0,
              "version_major": 2
            },
            "text/plain": [
              "HBox(children=(FloatProgress(value=0.0, description='Downloading', max=312087523.0, style=ProgressStyle(descri…"
            ]
          },
          "metadata": {
            "tags": []
          }
        },
        {
          "output_type": "stream",
          "text": [
            "\n"
          ],
          "name": "stdout"
        },
        {
          "output_type": "display_data",
          "data": {
            "application/vnd.jupyter.widget-view+json": {
              "model_id": "ba286ec1abb64864ab65980f496a67ac",
              "version_minor": 0,
              "version_major": 2
            },
            "text/plain": [
              "HBox(children=(FloatProgress(value=0.0, description='Downloading', max=44.0, style=ProgressStyle(description_w…"
            ]
          },
          "metadata": {
            "tags": []
          }
        },
        {
          "output_type": "stream",
          "text": [
            "\n"
          ],
          "name": "stdout"
        },
        {
          "output_type": "display_data",
          "data": {
            "application/vnd.jupyter.widget-view+json": {
              "model_id": "e8dfc6d9a5a248b0b920b5719871011c",
              "version_minor": 0,
              "version_major": 2
            },
            "text/plain": [
              "HBox(children=(FloatProgress(value=0.0, description='Downloading', max=801636.0, style=ProgressStyle(descripti…"
            ]
          },
          "metadata": {
            "tags": []
          }
        },
        {
          "output_type": "stream",
          "text": [
            "\n"
          ],
          "name": "stdout"
        },
        {
          "output_type": "display_data",
          "data": {
            "application/vnd.jupyter.widget-view+json": {
              "model_id": "f1cb0dff79ed488fa0cc5d0cdb9b9c4b",
              "version_minor": 0,
              "version_major": 2
            },
            "text/plain": [
              "HBox(children=(FloatProgress(value=0.0, description='Downloading', max=825924.0, style=ProgressStyle(descripti…"
            ]
          },
          "metadata": {
            "tags": []
          }
        },
        {
          "output_type": "stream",
          "text": [
            "\n"
          ],
          "name": "stdout"
        },
        {
          "output_type": "display_data",
          "data": {
            "application/vnd.jupyter.widget-view+json": {
              "model_id": "0dcc72bd47c04cf1b0c0a2d08db56283",
              "version_minor": 0,
              "version_major": 2
            },
            "text/plain": [
              "HBox(children=(FloatProgress(value=0.0, description='Downloading', max=1590040.0, style=ProgressStyle(descript…"
            ]
          },
          "metadata": {
            "tags": []
          }
        },
        {
          "output_type": "stream",
          "text": [
            "\n"
          ],
          "name": "stdout"
        }
      ]
    },
    {
      "cell_type": "code",
      "metadata": {
        "id": "49VKEUROU0Me"
      },
      "source": [
        "#Descargar sentiment lexicon en ingles\n",
        "from urllib.request import urlopen\n",
        "\n",
        "lx = {}\n",
        "\n",
        "for line in urlopen('https://raw.githubusercontent.com/fnielsen/afinn/master/afinn/data/AFINN-en-165.txt'):\n",
        "    text = line.decode(\"latin-1\").replace('\\n', '')\n",
        "    (key, val) = text.split('\\t')\n",
        "    lx[key] = int(val)"
      ],
      "execution_count": null,
      "outputs": []
    },
    {
      "cell_type": "code",
      "metadata": {
        "colab": {
          "base_uri": "https://localhost:8080/"
        },
        "id": "8VQJmWTvU5kP",
        "outputId": "dee566f3-8f52-4c89-c1b9-19f9c86c15c2"
      },
      "source": [
        "len(lx.keys())"
      ],
      "execution_count": null,
      "outputs": [
        {
          "output_type": "execute_result",
          "data": {
            "text/plain": [
              "3382"
            ]
          },
          "metadata": {
            "tags": []
          },
          "execution_count": 44
        }
      ]
    },
    {
      "cell_type": "markdown",
      "metadata": {
        "id": "L-LUEiHKVlJK"
      },
      "source": [
        "Este ejercicio se realizó con anterioridad, solo es necesario descargar el diccionario traducido\n",
        "\n"
      ]
    },
    {
      "cell_type": "code",
      "metadata": {
        "id": "kSdDdfDPVEVL"
      },
      "source": [
        "#Traducir el lexicon a español:\n",
        "\n",
        "#lx_es = {}\n",
        "\n",
        "#for k_i in list(lx.keys()):\n",
        "#    lemm_key = nlp(translator(k_i)[0]['translation_text'])[0].lemma_.lower()\n",
        "#    if len(lemm_key)<2:\n",
        "#        continue\n",
        "#    lx_es[lemm_key] = lx[k_i]"
      ],
      "execution_count": null,
      "outputs": []
    },
    {
      "cell_type": "code",
      "metadata": {
        "id": "4Ad4yxT9VNsU"
      },
      "source": [
        "import pickle\n",
        "\n",
        "\n",
        "#Guardar lexicon traducido\n",
        "#pickle.dump(lx_es, open('lexicon_es_v1.txt', 'wb'))"
      ],
      "execution_count": null,
      "outputs": []
    },
    {
      "cell_type": "code",
      "metadata": {
        "colab": {
          "base_uri": "https://localhost:8080/"
        },
        "id": "lH7epkN0VdhX",
        "outputId": "d322baff-568d-4ceb-c7cf-b256b0536d69"
      },
      "source": [
        "!wget -O lexicon_es_v1.txt https://github.com/RodrigoAcev/SA-PeruvianPresidentialCandidates/blob/main/lexicon_es_v1.txt?raw=true"
      ],
      "execution_count": null,
      "outputs": [
        {
          "output_type": "stream",
          "text": [
            "--2021-08-01 01:40:40--  https://github.com/RodrigoAcev/SA-PeruvianPresidentialCandidates/blob/main/lexicon_es_v1.txt?raw=true\n",
            "Resolving github.com (github.com)... 140.82.112.3\n",
            "Connecting to github.com (github.com)|140.82.112.3|:443... connected.\n",
            "HTTP request sent, awaiting response... 302 Found\n",
            "Location: https://github.com/RodrigoAcev/SA-PeruvianPresidentialCandidates/raw/main/lexicon_es_v1.txt [following]\n",
            "--2021-08-01 01:40:40--  https://github.com/RodrigoAcev/SA-PeruvianPresidentialCandidates/raw/main/lexicon_es_v1.txt\n",
            "Reusing existing connection to github.com:443.\n",
            "HTTP request sent, awaiting response... 302 Found\n",
            "Location: https://raw.githubusercontent.com/RodrigoAcev/SA-PeruvianPresidentialCandidates/main/lexicon_es_v1.txt [following]\n",
            "--2021-08-01 01:40:40--  https://raw.githubusercontent.com/RodrigoAcev/SA-PeruvianPresidentialCandidates/main/lexicon_es_v1.txt\n",
            "Resolving raw.githubusercontent.com (raw.githubusercontent.com)... 185.199.108.133, 185.199.109.133, 185.199.110.133, ...\n",
            "Connecting to raw.githubusercontent.com (raw.githubusercontent.com)|185.199.108.133|:443... connected.\n",
            "HTTP request sent, awaiting response... 200 OK\n",
            "Length: 49308 (48K) [application/octet-stream]\n",
            "Saving to: ‘lexicon_es_v1.txt’\n",
            "\n",
            "lexicon_es_v1.txt   100%[===================>]  48.15K  --.-KB/s    in 0.006s  \n",
            "\n",
            "2021-08-01 01:40:40 (7.94 MB/s) - ‘lexicon_es_v1.txt’ saved [49308/49308]\n",
            "\n"
          ],
          "name": "stdout"
        }
      ]
    },
    {
      "cell_type": "code",
      "metadata": {
        "colab": {
          "base_uri": "https://localhost:8080/"
        },
        "id": "2_hCvdCpVZ9l",
        "outputId": "2ffebf9c-f234-4058-b1fc-00baa8422065"
      },
      "source": [
        "lx_es_v1 = pickle.load(open('lexicon_es_v1.txt', 'rb'))\n",
        "\n",
        "for k_i in list(lx_es_v1.keys())[:10]:\n",
        "    print(k_i, ':' ,lx_es_v1[k_i])"
      ],
      "execution_count": null,
      "outputs": [
        {
          "output_type": "stream",
          "text": [
            "abandonar : -2\n",
            "secuestrar : -2\n",
            "secuestro : -2\n",
            "aborrecer : -3\n",
            "aborrecible : -3\n",
            "aborrece : -3\n",
            "capacidad : 1\n",
            "abortar : -1\n",
            "ausentar : -1\n",
            "ausente : -1\n"
          ],
          "name": "stdout"
        }
      ]
    },
    {
      "cell_type": "code",
      "metadata": {
        "id": "UIC4hTakjFmp"
      },
      "source": [
        "palabras_faltantes = []\n",
        "def CalculaScore(contenido):\n",
        "    sent_score = 0\n",
        "    keys_lista = list(lx_es_v1.keys())\n",
        "    for token_i in word_tokenize(contenido):\n",
        "        if not(token_i in keys_lista):\n",
        "            if token_i in palabras_faltantes:\n",
        "                continue\n",
        "            palabras_faltantes.append(token_i)\n",
        "\n",
        "        try:\n",
        "            sent_score += lx_es_v1[token_i]\n",
        "        except:\n",
        "            if not(token_i in palabras_faltantes):\n",
        "                palabras_faltantes.append(token_i)\n",
        "\n",
        "\n",
        "    return sent_score"
      ],
      "execution_count": null,
      "outputs": []
    },
    {
      "cell_type": "code",
      "metadata": {
        "colab": {
          "base_uri": "https://localhost:8080/",
          "height": 1000
        },
        "id": "2TMe0FDcVUc5",
        "outputId": "c5799380-8434-4232-d45d-e57af52d260f"
      },
      "source": [
        "df = df_raw.copy()\n",
        "\n",
        "df['score_pre_2'] = df['Pro_text'].apply(CalculaScore)\n",
        "df.head(10)"
      ],
      "execution_count": null,
      "outputs": [
        {
          "output_type": "execute_result",
          "data": {
            "text/html": [
              "<div>\n",
              "<style scoped>\n",
              "    .dataframe tbody tr th:only-of-type {\n",
              "        vertical-align: middle;\n",
              "    }\n",
              "\n",
              "    .dataframe tbody tr th {\n",
              "        vertical-align: top;\n",
              "    }\n",
              "\n",
              "    .dataframe thead th {\n",
              "        text-align: right;\n",
              "    }\n",
              "</style>\n",
              "<table border=\"1\" class=\"dataframe\">\n",
              "  <thead>\n",
              "    <tr style=\"text-align: right;\">\n",
              "      <th></th>\n",
              "      <th>Unnamed: 0</th>\n",
              "      <th>site</th>\n",
              "      <th>publish_date</th>\n",
              "      <th>title</th>\n",
              "      <th>content</th>\n",
              "      <th>Pro_text</th>\n",
              "      <th>Keywords</th>\n",
              "      <th>Texto_puntos</th>\n",
              "      <th>score_pre</th>\n",
              "      <th>score</th>\n",
              "      <th>Sentimiento</th>\n",
              "      <th>score_pre_2</th>\n",
              "    </tr>\n",
              "  </thead>\n",
              "  <tbody>\n",
              "    <tr>\n",
              "      <th>0</th>\n",
              "      <td>0</td>\n",
              "      <td>diariocorreo</td>\n",
              "      <td>2021-07-29 23:55:16.656000+00:00</td>\n",
              "      <td>Pedro Castillo a delincuentes extranjeros: “Te...</td>\n",
              "      <td>Pedro Castillo anuncia que no gobernará desde ...</td>\n",
              "      <td>pedro castillo anunciar gobernar palacio gober...</td>\n",
              "      <td>[castillo, pedro, página, metro, segundo]</td>\n",
              "      <td>pedro castillo anuncia que no gobernará desde ...</td>\n",
              "      <td>0.195921</td>\n",
              "      <td>0.340521</td>\n",
              "      <td>neutro</td>\n",
              "      <td>-19</td>\n",
              "    </tr>\n",
              "    <tr>\n",
              "      <th>1</th>\n",
              "      <td>1</td>\n",
              "      <td>diariocorreo</td>\n",
              "      <td>2021-07-29 23:48:20.264000+00:00</td>\n",
              "      <td>María del Carmen Alva sobre Sagasti: “Le invit...</td>\n",
              "      <td>La presidenta del Congreso, María del Carmen A...</td>\n",
              "      <td>presidente congreso maría carmen alva responde...</td>\n",
              "      <td>[banda, congreso, presidente, sagasti, alva]</td>\n",
              "      <td>la presidenta del congreso , maría del carmen ...</td>\n",
              "      <td>0.224760</td>\n",
              "      <td>0.708929</td>\n",
              "      <td>positivo</td>\n",
              "      <td>2</td>\n",
              "    </tr>\n",
              "    <tr>\n",
              "      <th>2</th>\n",
              "      <td>2</td>\n",
              "      <td>diariocorreo</td>\n",
              "      <td>2021-07-29 23:27:32.719000+00:00</td>\n",
              "      <td>Keiko Fujimori a Pedro Castillo: “Seremos un m...</td>\n",
              "      <td>“A 200 años de que lográramos una República li...</td>\n",
              "      <td>año lograr república librar hoy deber ratifica...</td>\n",
              "      <td>[fujimori, keiko, pedro, castillo, nuevo]</td>\n",
              "      <td>años de que lográramos una república libre , h...</td>\n",
              "      <td>0.066642</td>\n",
              "      <td>-1.311019</td>\n",
              "      <td>negativo</td>\n",
              "      <td>50</td>\n",
              "    </tr>\n",
              "    <tr>\n",
              "      <th>3</th>\n",
              "      <td>3</td>\n",
              "      <td>diariocorreo</td>\n",
              "      <td>2021-07-29 23:27:10.005000+00:00</td>\n",
              "      <td>Francisco Sagasti fue denunciado por genocidio...</td>\n",
              "      <td>El presidente Francisco Sagasti fue denunciado...</td>\n",
              "      <td>presidente francisco sagasti denunciar excongr...</td>\n",
              "      <td>[sagasti, francisco, denunciar, ministro, metro]</td>\n",
              "      <td>el presidente francisco sagasti fue denunciado...</td>\n",
              "      <td>0.108913</td>\n",
              "      <td>-0.771007</td>\n",
              "      <td>negativo</td>\n",
              "      <td>-34</td>\n",
              "    </tr>\n",
              "    <tr>\n",
              "      <th>4</th>\n",
              "      <td>4</td>\n",
              "      <td>diariocorreo</td>\n",
              "      <td>2021-07-29 23:05:02.514000+00:00</td>\n",
              "      <td>Julio Arbizu tilda de “primer grave error polí...</td>\n",
              "      <td>Exprocurador que integró el equipo de transfer...</td>\n",
              "      <td>exprocurador integrar equipar transferencia mi...</td>\n",
              "      <td>[guido, bellido, gobernar, espantar, consenso]</td>\n",
              "      <td>exprocurador que integró el equipo de transfer...</td>\n",
              "      <td>0.109091</td>\n",
              "      <td>-0.768743</td>\n",
              "      <td>negativo</td>\n",
              "      <td>-24</td>\n",
              "    </tr>\n",
              "    <tr>\n",
              "      <th>5</th>\n",
              "      <td>5</td>\n",
              "      <td>diariocorreo</td>\n",
              "      <td>2021-07-29 21:03:14.998000+00:00</td>\n",
              "      <td>Guido Bellido, el nuevo presidente del Consejo...</td>\n",
              "      <td>El nombrado titular de la PCM increpó en el de...</td>\n",
              "      <td>nombrar titular página metro increpar detrás c...</td>\n",
              "      <td>[página, sendero, luminoso, edith, lago]</td>\n",
              "      <td>el nombrado titular de la increpó en el detrás...</td>\n",
              "      <td>0.082416</td>\n",
              "      <td>-1.109505</td>\n",
              "      <td>negativo</td>\n",
              "      <td>-16</td>\n",
              "    </tr>\n",
              "    <tr>\n",
              "      <th>6</th>\n",
              "      <td>6</td>\n",
              "      <td>diariocorreo</td>\n",
              "      <td>2021-07-29 20:52:33.355000+00:00</td>\n",
              "      <td>Congresistas opinaron sobre designación de Gui...</td>\n",
              "      <td>Los legisladores de Juntos por el Perú, Avanza...</td>\n",
              "      <td>legislador junto perú avanzar país forzar popu...</td>\n",
              "      <td>[bellido, página, guido, país, popular]</td>\n",
              "      <td>los legisladores de juntos por el perú , avanz...</td>\n",
              "      <td>0.052929</td>\n",
              "      <td>-1.486208</td>\n",
              "      <td>negativo</td>\n",
              "      <td>34</td>\n",
              "    </tr>\n",
              "    <tr>\n",
              "      <th>7</th>\n",
              "      <td>7</td>\n",
              "      <td>diariocorreo</td>\n",
              "      <td>2021-07-29 20:11:01.618000+00:00</td>\n",
              "      <td>Juramentación de ministros será en el Gran Tea...</td>\n",
              "      <td>La ceremonia programada para el viernes 30 de ...</td>\n",
              "      <td>ceremonia programar viernes julio realizar hoy...</td>\n",
              "      <td>[metro, julio, página, ceremonia, gran]</td>\n",
              "      <td>la ceremonia programada para el viernes de jul...</td>\n",
              "      <td>0.239125</td>\n",
              "      <td>0.892448</td>\n",
              "      <td>positivo</td>\n",
              "      <td>-3</td>\n",
              "    </tr>\n",
              "    <tr>\n",
              "      <th>8</th>\n",
              "      <td>8</td>\n",
              "      <td>diariocorreo</td>\n",
              "      <td>2021-07-29 19:40:18.175000+00:00</td>\n",
              "      <td>Pedro Castillo: “Seré el primero en sancionar ...</td>\n",
              "      <td>Presidente convocó a la población a estar vigi...</td>\n",
              "      <td>presidente convocar población vigilante autori...</td>\n",
              "      <td>[trabajar, perú, convocar, autoridad, país]</td>\n",
              "      <td>presidente convocó la población estar vigilant...</td>\n",
              "      <td>0.074946</td>\n",
              "      <td>-1.204935</td>\n",
              "      <td>negativo</td>\n",
              "      <td>-2</td>\n",
              "    </tr>\n",
              "    <tr>\n",
              "      <th>9</th>\n",
              "      <td>9</td>\n",
              "      <td>diariocorreo</td>\n",
              "      <td>2021-07-29 18:48:45.293000+00:00</td>\n",
              "      <td>EN VIVO | Guido Bellido es el presidente del C...</td>\n",
              "      <td>Esta tarde Bellido asumió al cargo en la Pampa...</td>\n",
              "      <td>tardar bellido asumir cargar pampa quinua ayac...</td>\n",
              "      <td>[segundo, metro, litro, bellido, partir]</td>\n",
              "      <td>esta tarde bellido asumió al cargo en la pampa...</td>\n",
              "      <td>0.081184</td>\n",
              "      <td>-1.125245</td>\n",
              "      <td>negativo</td>\n",
              "      <td>-15</td>\n",
              "    </tr>\n",
              "  </tbody>\n",
              "</table>\n",
              "</div>"
            ],
            "text/plain": [
              "   Unnamed: 0          site  ... Sentimiento score_pre_2\n",
              "0           0  diariocorreo  ...      neutro         -19\n",
              "1           1  diariocorreo  ...    positivo           2\n",
              "2           2  diariocorreo  ...    negativo          50\n",
              "3           3  diariocorreo  ...    negativo         -34\n",
              "4           4  diariocorreo  ...    negativo         -24\n",
              "5           5  diariocorreo  ...    negativo         -16\n",
              "6           6  diariocorreo  ...    negativo          34\n",
              "7           7  diariocorreo  ...    positivo          -3\n",
              "8           8  diariocorreo  ...    negativo          -2\n",
              "9           9  diariocorreo  ...    negativo         -15\n",
              "\n",
              "[10 rows x 12 columns]"
            ]
          },
          "metadata": {
            "tags": []
          },
          "execution_count": 50
        }
      ]
    },
    {
      "cell_type": "code",
      "metadata": {
        "colab": {
          "base_uri": "https://localhost:8080/",
          "height": 334
        },
        "id": "et1xdpcfsULC",
        "outputId": "73666855-963e-4fa2-bf17-0e00b5ed670a"
      },
      "source": [
        "ax = sns.violinplot(x=\"score_pre_2\", data=df)\n",
        "ax = sns.swarmplot(x=\"score_pre_2\", color='silver',data=df)"
      ],
      "execution_count": null,
      "outputs": [
        {
          "output_type": "stream",
          "text": [
            "/usr/local/lib/python3.7/dist-packages/seaborn/categorical.py:1296: UserWarning: 35.0% of the points cannot be placed; you may want to decrease the size of the markers or use stripplot.\n",
            "  warnings.warn(msg, UserWarning)\n"
          ],
          "name": "stderr"
        },
        {
          "output_type": "display_data",
          "data": {
            "image/png": "[encoded data removed]",
            "text/plain": [
              "<Figure size 432x288 with 1 Axes>"
            ]
          },
          "metadata": {
            "tags": [],
            "needs_background": "light"
          }
        }
      ]
    },
    {
      "cell_type": "code",
      "metadata": {
        "colab": {
          "base_uri": "https://localhost:8080/",
          "height": 295
        },
        "id": "ep-n0iRzHLa3",
        "outputId": "6d67c818-d661-48bd-f044-cf5a5fa18fb5"
      },
      "source": [
        "mean_2 = df['score_pre_2'].mean()\n",
        "std_2 = df['score_pre_2'].std()\n",
        "\n",
        "df['score_2'] = (df['score_pre_2']-mean_2)/std_2\n",
        "df[['score_pre_2', 'score_2']].describe()"
      ],
      "execution_count": null,
      "outputs": [
        {
          "output_type": "execute_result",
          "data": {
            "text/html": [
              "<div>\n",
              "<style scoped>\n",
              "    .dataframe tbody tr th:only-of-type {\n",
              "        vertical-align: middle;\n",
              "    }\n",
              "\n",
              "    .dataframe tbody tr th {\n",
              "        vertical-align: top;\n",
              "    }\n",
              "\n",
              "    .dataframe thead th {\n",
              "        text-align: right;\n",
              "    }\n",
              "</style>\n",
              "<table border=\"1\" class=\"dataframe\">\n",
              "  <thead>\n",
              "    <tr style=\"text-align: right;\">\n",
              "      <th></th>\n",
              "      <th>score_pre_2</th>\n",
              "      <th>score_2</th>\n",
              "    </tr>\n",
              "  </thead>\n",
              "  <tbody>\n",
              "    <tr>\n",
              "      <th>count</th>\n",
              "      <td>631.000000</td>\n",
              "      <td>6.310000e+02</td>\n",
              "    </tr>\n",
              "    <tr>\n",
              "      <th>mean</th>\n",
              "      <td>2.928685</td>\n",
              "      <td>-3.167039e-17</td>\n",
              "    </tr>\n",
              "    <tr>\n",
              "      <th>std</th>\n",
              "      <td>25.560069</td>\n",
              "      <td>1.000000e+00</td>\n",
              "    </tr>\n",
              "    <tr>\n",
              "      <th>min</th>\n",
              "      <td>-123.000000</td>\n",
              "      <td>-4.926774e+00</td>\n",
              "    </tr>\n",
              "    <tr>\n",
              "      <th>25%</th>\n",
              "      <td>-11.000000</td>\n",
              "      <td>-5.449392e-01</td>\n",
              "    </tr>\n",
              "    <tr>\n",
              "      <th>50%</th>\n",
              "      <td>2.000000</td>\n",
              "      <td>-3.633342e-02</td>\n",
              "    </tr>\n",
              "    <tr>\n",
              "      <th>75%</th>\n",
              "      <td>16.000000</td>\n",
              "      <td>5.113959e-01</td>\n",
              "    </tr>\n",
              "    <tr>\n",
              "      <th>max</th>\n",
              "      <td>218.000000</td>\n",
              "      <td>8.414348e+00</td>\n",
              "    </tr>\n",
              "  </tbody>\n",
              "</table>\n",
              "</div>"
            ],
            "text/plain": [
              "       score_pre_2       score_2\n",
              "count   631.000000  6.310000e+02\n",
              "mean      2.928685 -3.167039e-17\n",
              "std      25.560069  1.000000e+00\n",
              "min    -123.000000 -4.926774e+00\n",
              "25%     -11.000000 -5.449392e-01\n",
              "50%       2.000000 -3.633342e-02\n",
              "75%      16.000000  5.113959e-01\n",
              "max     218.000000  8.414348e+00"
            ]
          },
          "metadata": {
            "tags": []
          },
          "execution_count": 52
        }
      ]
    },
    {
      "cell_type": "code",
      "metadata": {
        "colab": {
          "base_uri": "https://localhost:8080/",
          "height": 468
        },
        "id": "fK5MJnVdHlN4",
        "outputId": "827edea6-4350-4b86-cf26-343076cfc6f7"
      },
      "source": [
        "df['Sentimiento_2'] = df['score_2'].apply(lambda x: 'positivo' if x>=.5 else 'negativo' if x<=-.5 else 'neutro')\n",
        "\n",
        "\n",
        "ax = sns.violinplot(x=\"score_2\", y='site', color='whitesmoke', data=df)\n",
        "ax = sns.swarmplot(x=\"score_2\", y='site', hue='Sentimiento_2', data=df)"
      ],
      "execution_count": null,
      "outputs": [
        {
          "output_type": "stream",
          "text": [
            "/usr/local/lib/python3.7/dist-packages/seaborn/categorical.py:1296: UserWarning: 47.0% of the points cannot be placed; you may want to decrease the size of the markers or use stripplot.\n",
            "  warnings.warn(msg, UserWarning)\n",
            "/usr/local/lib/python3.7/dist-packages/seaborn/categorical.py:1296: UserWarning: 40.8% of the points cannot be placed; you may want to decrease the size of the markers or use stripplot.\n",
            "  warnings.warn(msg, UserWarning)\n",
            "/usr/local/lib/python3.7/dist-packages/seaborn/categorical.py:1296: UserWarning: 47.3% of the points cannot be placed; you may want to decrease the size of the markers or use stripplot.\n",
            "  warnings.warn(msg, UserWarning)\n",
            "/usr/local/lib/python3.7/dist-packages/seaborn/categorical.py:1296: UserWarning: 46.5% of the points cannot be placed; you may want to decrease the size of the markers or use stripplot.\n",
            "  warnings.warn(msg, UserWarning)\n",
            "/usr/local/lib/python3.7/dist-packages/seaborn/categorical.py:1296: UserWarning: 27.4% of the points cannot be placed; you may want to decrease the size of the markers or use stripplot.\n",
            "  warnings.warn(msg, UserWarning)\n"
          ],
          "name": "stderr"
        },
        {
          "output_type": "display_data",
          "data": {
            "image/png": "[encoded data removed]",
            "text/plain": [
              "<Figure size 432x288 with 1 Axes>"
            ]
          },
          "metadata": {
            "tags": [],
            "needs_background": "light"
          }
        }
      ]
    },
    {
      "cell_type": "code",
      "metadata": {
        "colab": {
          "base_uri": "https://localhost:8080/"
        },
        "id": "80gTCafAIoin",
        "outputId": "1d20a874-fac9-4a58-bc77-7007c6e0e6f2"
      },
      "source": [
        "df['Sentimiento_2'].value_counts()"
      ],
      "execution_count": null,
      "outputs": [
        {
          "output_type": "execute_result",
          "data": {
            "text/plain": [
              "neutro      303\n",
              "negativo    168\n",
              "positivo    160\n",
              "Name: Sentimiento_2, dtype: int64"
            ]
          },
          "metadata": {
            "tags": []
          },
          "execution_count": 54
        }
      ]
    },
    {
      "cell_type": "code",
      "metadata": {
        "colab": {
          "base_uri": "https://localhost:8080/"
        },
        "id": "jUSDv6TqsDmt",
        "outputId": "d1d7c7f4-e984-42e1-f3a2-17946e8713b7"
      },
      "source": [
        "palabras_faltantes[:10]"
      ],
      "execution_count": null,
      "outputs": [
        {
          "output_type": "execute_result",
          "data": {
            "text/plain": [
              "['pedro',\n",
              " 'castillo',\n",
              " 'anunciar',\n",
              " 'gobernar',\n",
              " 'palacio',\n",
              " 'foto',\n",
              " 'twitter',\n",
              " 'redacción',\n",
              " 'diario',\n",
              " 'correar']"
            ]
          },
          "metadata": {
            "tags": []
          },
          "execution_count": 55
        }
      ]
    },
    {
      "cell_type": "code",
      "metadata": {
        "colab": {
          "base_uri": "https://localhost:8080/"
        },
        "id": "CrQ3G1UJrcmJ",
        "outputId": "20fe6c9e-688b-4003-90f8-5914be0b211b"
      },
      "source": [
        "df[df['score']>=.5].index"
      ],
      "execution_count": null,
      "outputs": [
        {
          "output_type": "execute_result",
          "data": {
            "text/plain": [
              "Int64Index([  1,   7,  11,  18,  20,  25,  26,  30,  36,  37,\n",
              "            ...\n",
              "            604, 605, 606, 611, 612, 616, 624, 625, 626, 629],\n",
              "           dtype='int64', length=170)"
            ]
          },
          "metadata": {
            "tags": []
          },
          "execution_count": 56
        }
      ]
    },
    {
      "cell_type": "code",
      "metadata": {
        "colab": {
          "base_uri": "https://localhost:8080/",
          "height": 154
        },
        "id": "nekmfD3vr5-B",
        "outputId": "ba8df322-8292-40ca-8ae6-170d063b5740"
      },
      "source": [
        "df.loc[19,'content']"
      ],
      "execution_count": null,
      "outputs": [
        {
          "output_type": "execute_result",
          "data": {
            "application/vnd.google.colaboratory.intrinsic+json": {
              "type": "string"
            },
            "text/plain": [
              "\"“Hoy como está nuestra Constitución, una asamblea constituyente es inconstitucional”, señaló. (Foto: GEC) Redacción Diario CorreoActualizado el 29/07/2021 08:54 a.m.La presidenta del Congreso, María del Carmen Alva, consideró este miércoles que si el Poder Ejecutivo insiste en su propuesto de instaurar una asamblea constituyente ante un eventual rechazo del Parlamento Nacional, estaría cometiendo un “golpe de Estado”.En diálogo con Willax TV, prefirió “no adelantarse” a lo que haría el Legislativo en dicho escenario, pero aclaró que impulsar una medida de reforma constitucional sin pasar por el Congreso sería “inconstitucional”.MIRA: Pedro Castillo: “Ningún peruano debe denigrarse en programas de espectáculos”“[Si se insiste con una asamblea constituyente, ¿sería un golpe de Estado?] Sí, definitivamente. Todos estamos preocupados, pero todavía vamos a esperar a que llegue el proyecto de ley como él ha dicho. Va a mandar un proyecto de ley y hay que verlo en el Congreso. No nos vamos a adelantar a algo que no ha sucedido todavía”, sostuvo.“Hoy como está nuestra Constitución, una asamblea constituyente es inconstitucional”, señaló.En otro momento, la titular del Legislativo destacó que el presidente Pedro Castillo busque impulsar su propuesta de cambio de la Constitución Política de 1993 a través del marco legal vigente.“Sobre la asamblea constituyente que era lo que más nos preocupaba ha dicho que presentará un proyecto de ley para que se vea, pero siempre dentro del marco constitucional, así que si presenta un proyecto de ley irá a la Comisión de Constitución y ahí se analizará”, manifestó.MIRA: Pedro Castillo se reunió con el presidente de Argentina, Alberto Fernández“He entendido clarísimo es que su intención es impulsarlo dentro del marco constitucional. De acuerdo al 206 se puede reformar parcial o totalmente la Constitución, pero se tiene que pasar por el Congreso”, indicó.(Video: Willax TV) TE PUEDE INTERESAREl primer día de un largo quinquenio (FOTOS)Pedro Castillo: “Ningún peruano debe denigrarse en programas de espectáculos”Nuevo rol para las rondas campesinasPedro Castillo: estos fueron sus principales anuncios en su primer mensaje a la NaciónCongresista Alejandro Muñante: “Francisco Sagasti habría cometido usurpación de funciones”VIDEO RECOMENDADO SUSCRÍBETE A CORREO YOUTUBE Tags Relacionados:María del Carmen AlvaPedro CastilloAsamblea ConstituyenteNO TE PIERDASContenido de Mag.Una perra guio a dos extraños hasta un pozo de alquitrán y ‘pidió' que rescaten a su pequeño cachorro “Xena, la princesa guerrera”: Lucy Lawless, 25 años después del estreno de la serieWhatsApp: truco para agregar efectos de sonido a las notas de vozBTS: por qué Jimin casi queda fuera de la agrupación de K-PopWhatsApp: conoce el significado de este emoji que no son conejitas de PlayboyLulu Lakatos, la mujer que cambió diamantes valuados en millones de dólares por piedras comunes\""
            ]
          },
          "metadata": {
            "tags": []
          },
          "execution_count": 57
        }
      ]
    },
    {
      "cell_type": "code",
      "metadata": {
        "colab": {
          "base_uri": "https://localhost:8080/",
          "height": 154
        },
        "id": "pfTuJr30sNur",
        "outputId": "5563d59c-db51-412c-e9cc-02672f9f4146"
      },
      "source": [
        "df.loc[21,'content']"
      ],
      "execution_count": null,
      "outputs": [
        {
          "output_type": "execute_result",
          "data": {
            "application/vnd.google.colaboratory.intrinsic+json": {
              "type": "string"
            },
            "text/plain": [
              "\"Rondas campesinas Gabriel Mazzeigabriel.mazzei@prensmart.peActualizado el 29/07/2021 07:47 a.m.En su primer discurso como presidente de la República, Pedro Castillo Terrones tuvo dos ejes bien marcados en la lucha contra la inseguridad ciudadana: el reforzamiento de la tarea de la Policía Nacional con las rondas campesinas y la expulsión de los ciudadanos extranjeros que incurran en actos delincuenciales.MIRA AQUÍ: Pedro Castillo: estos fueron sus principales anuncios en su primer mensaje a la NaciónAnte el Congreso, Castillo dijo que si bien la Policía se esfuerza en luchar contra la delincuencia, continúan “las pandillas, las bandas, los robos callejeros y las agresiones a la integridad física de las personas y a sus vidas”.“Nosotros creemos que debemos expandir el sistema de las rondas, que no es otra cosa que la población organizada para dar seguridad a toda la población”, precisó el jefe de Estado.En esa línea, convocó a la población en general a conformar las rondas campesinas “donde no existan e incluirlas en el Sistema Nacional de Seguridad Ciudadana, en los niveles regionales y locales correspondientes”.Además, precisó que dotará un presupuesto para la logística necesaria.Asimismo, indicó que promoverá la participación de las rondas campesinas en la fiscalización a las autoridades en la ejecución de la inversión pública en sus comunidades.MIRA AQUÍ: Pedro Castillo: “Ningún peruano debe denigrarse en programas de espectáculos”“Estamos seguros que conjuntamente con la Policía Nacional del Perú podremos acceder a una más eficiente seguridad pública”, añadió.Tras ello, dio un mensaje a modo de ultimátum a los delincuentes extranjeros para que en un plazo máximo de 72 horas abandonen el país.PELIGROSO. En diálogo con Correo, el exdirector de la Policía Nacional Eduardo Pérez Rocha calificó como decepcionante el mensaje del presidente Pedro Castillo sobre seguridad ciudadana.“El presidente no ha hablado de seguridad interna ni orden público, sino de seguridad ciudadana que, por ley, le corresponde a los alcaldes en coordinación con la Policía y\\xa0 la sociedad organizada. Es un mensaje decepcionante porque cuestiona a la Policía de no poder controlar la delincuencia”, opinó.Sobre las rondas campesinas, consideró que estos grupos están legalmente establecidos en las zonas rurales pero “para tener competencias a nivel nacional deben registrarse en los Registros Públicos”.“En Cuba, por ejemplo, están las masas revolucionarias, que son civiles y apoyan al gobierno cuando hay disturbios sociales. Lo mismo pasa en Venezuela con las milicias urbanas”, detalló.Sobre la expulsión de los delincuentes extranjeros, Pérez Rocha señaló que el mandatario no ha precisado cómo implementará esta medida. “No tenemos aún un ministro del Interior que encabece un operativo a nivel nacional para la expulsión de los delincuentes extranjeros”, añadió.CambioPedro Castillo anunció que se volverá a encargar a las FF.AA. su participación en algunos importantes proyectos de desarrollo.VIDEO RECOMENDADO:Pedro Castillo ratifica que se convocará a una Asamblea ConstituyenteTags Relacionados:Pedro CastilloNO TE PIERDASContenido de Mag.Una perra guio a dos extraños hasta un pozo de alquitrán y ‘pidió' que rescaten a su pequeño cachorro “Xena, la princesa guerrera”: Lucy Lawless, 25 años después del estreno de la serieWhatsApp: truco para agregar efectos de sonido a las notas de vozBTS: por qué Jimin casi queda fuera de la agrupación de K-PopWhatsApp: conoce el significado de este emoji que no son conejitas de PlayboyLulu Lakatos, la mujer que cambió diamantes valuados en millones de dólares por piedras comunes\""
            ]
          },
          "metadata": {
            "tags": []
          },
          "execution_count": 58
        }
      ]
    },
    {
      "cell_type": "code",
      "metadata": {
        "colab": {
          "base_uri": "https://localhost:8080/",
          "height": 154
        },
        "id": "RY-0hUpssepw",
        "outputId": "76a6f0ea-530f-47a0-923e-445b13c3412e"
      },
      "source": [
        "df.loc[2,'content']"
      ],
      "execution_count": null,
      "outputs": [
        {
          "output_type": "execute_result",
          "data": {
            "application/vnd.google.colaboratory.intrinsic+json": {
              "type": "string"
            },
            "text/plain": [
              "'“A 200 años de que lográramos una República libre, hoy debemos ratificar nuestro compromiso en defender esta libertad\", señaló Fujimori Higuchi. (Foto: GEC) Redacción Diario CorreoActualizado el 29/07/2021 06:27 p.m.La lideresa de Fuerza Popular, Keiko Fujimori, aseguró el último miércoles que su bancada será un “muro de contención” de cara a la propuesta de una Asamblea Constituyente anunciada por el presidente Pedro Castillo en su mensaje a la Nación.MIRA AQUÍ: Pedro Castillo anuncia que no vivirá en Palacio de Gobierno y que será convertido en museo (VIDEO)A través de su cuenta de Twitter, la excandidata presidencial aseguró que su bancada apoyará “toda iniciativa” del oficialismo que se encuentre dirigida “a mejorar la calidad de vida de la población” en el Congreso.“A 200 años de que lográramos una República libre, hoy debemos ratificar nuestro compromiso en defender esta libertad. Ello implica rechazar la demagogia, la división y el odio. Desde Fuerza Popular apoyaremos toda iniciativa del nuevo gobierno destinada a mejorar la calidad de vida de la población porque la educación, salud y bienestar de todos los peruanos está por encima de nuestras diferencias”, escribió.A 200 años de que lográramos una República libre, hoy debemos ratificar nuestro compromiso en defender esta libertad. Ello implica rechazar la demagogia, la división y el odio. (1/3)— Keiko Fujimori (@KeikoFujimori) July 29, 2021 MIRA AQUÍ: “Saluden por lo menos pues”: Critican a sujeto que gritó a la familia del presidente Pedro Castillo (VIDEOS)“Pero también seremos un firme muro de contención frente a su amenaza latente de una nueva Constitución comunista y de cambios estructurales en los cimientos de nuestro desarrollo. Haremos una defensa democrática responsable”, señaló.Pero también seremos un firme muro de contención frente a su amenaza latente de una nueva Constitución comunista y de cambios estructurales en los cimientos de nuestro desarrollo. Haremos una defensa democrática responsable. (3/3)— Keiko Fujimori (@KeikoFujimori) July 29, 2021 Este miércoles en su mensaje a la Nación, Pedro Castillo insistió en la necesidad de dotar al país de una nueva Carta Magna a través de una Asamblea Constituyente, que “permita cambiar el rostro a nuestra realidad económica y social”, pero siempre en el marco de la ley y con los instrumentos legales que la propia Constitución Política de 1993 proporciona.“Tengan la seguridad que nunca se hará tabla rasa de la legalidad, sin duda para lograr este propósito tendremos que conciliar posiciones con el Congreso de la República, pues será aquí, en la casa de las leyes donde se tendrán que aprobar las normas correspondientes”, manifestó.Regístrate gratis AQUÍ en nuestro boletín CORREO HOY y recibe las noticias que te interesan en tu correo electrónicoVIDEO RECOMENDADORevive la juramentación de Pedro Castillo como presidente del PerúTags Relacionados:Keiko FujimoriPedro CastilloNueva constituciónNO TE PIERDASContenido de Mag.Una perra guio a dos extraños hasta un pozo de alquitrán y ‘pidió\\' que rescaten a su pequeño cachorro “Xena, la princesa guerrera”: Lucy Lawless, 25 años después del estreno de la serieWhatsApp: truco para agregar efectos de sonido a las notas de vozBTS: por qué Jimin casi queda fuera de la agrupación de K-PopWhatsApp: conoce el significado de este emoji que no son conejitas de PlayboyLulu Lakatos, la mujer que cambió diamantes valuados en millones de dólares por piedras comunes'"
            ]
          },
          "metadata": {
            "tags": []
          },
          "execution_count": 59
        }
      ]
    }
  ]
}